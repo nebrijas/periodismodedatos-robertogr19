{
 "cells": [
  {
   "cell_type": "markdown",
   "id": "45952677",
   "metadata": {},
   "source": [
    "# Práctica de web Scraping"
   ]
  },
  {
   "cell_type": "markdown",
   "id": "647b3fe7",
   "metadata": {},
   "source": [
    "## Importar librerías"
   ]
  },
  {
   "cell_type": "markdown",
   "id": "f71ad1c1",
   "metadata": {},
   "source": [
    "Ahora importo la librería [request](https://docs.python-requests.org/en/latest/)"
   ]
  },
  {
   "cell_type": "code",
   "execution_count": null,
   "id": "337cb60a",
   "metadata": {},
   "outputs": [],
   "source": [
    "import requests"
   ]
  },
  {
   "cell_type": "markdown",
   "id": "a7fbea6e",
   "metadata": {},
   "source": [
    "Voy a importar de la librería [bs4](https://www.crummy.com/software/BeautifulSoup/bs4/doc/) `BeautifulSoup`"
   ]
  },
  {
   "cell_type": "code",
   "execution_count": null,
   "id": "4e24492a",
   "metadata": {},
   "outputs": [],
   "source": [
    "from bs4 import BeautifulSoup"
   ]
  },
  {
   "cell_type": "markdown",
   "id": "7f6584fb",
   "metadata": {},
   "source": [
    "## Variables"
   ]
  },
  {
   "cell_type": "markdown",
   "id": "4a185d7d",
   "metadata": {},
   "source": [
    "Utilizaremos diferentes variables que recojan todos los datos que queremos mostrar. Por un lado las medallas de oro, por otro las de plata, por otro las de bronce y por último el total de medallas ganadas por cada país. "
   ]
  },
  {
   "cell_type": "markdown",
   "id": "cee2e386",
   "metadata": {},
   "source": [
    "### Definimos URL"
   ]
  },
  {
   "cell_type": "markdown",
   "id": "9a7a821e",
   "metadata": {},
   "source": [
    "De aquí sacamos los datos. Sin ella no hacemos nada. Es nuestra base de datos."
   ]
  },
  {
   "cell_type": "code",
   "execution_count": 1,
   "id": "a9105d83",
   "metadata": {},
   "outputs": [],
   "source": [
    "URL = \"https://resultados.elpais.com/deportivos/juegos-olimpicos/medallero/\""
   ]
  },
  {
   "cell_type": "markdown",
   "id": "f9d32bfa",
   "metadata": {},
   "source": [
    "### Realizamos la petición a la web"
   ]
  },
  {
   "cell_type": "markdown",
   "id": "3cb2289b",
   "metadata": {},
   "source": [
    "Comenzamos a jugar. Si el estatus code no es `200` no se puede leer la página."
   ]
  },
  {
   "cell_type": "code",
   "execution_count": null,
   "id": "b3bba030",
   "metadata": {},
   "outputs": [],
   "source": [
    "req = requests.get(URL)\n",
    "if (req.status_code != 200):\n",
    "    raise Exception(\"No se puede hacer Web Scraping en\"+ URL)\n",
    "if (rq.status_code == 200):\n",
    "    print(\"Vamos a por ello\")"
   ]
  },
  {
   "cell_type": "markdown",
   "id": "396d0bc7",
   "metadata": {},
   "source": [
    "### De requests a BeautifulSoup"
   ]
  },
  {
   "cell_type": "markdown",
   "id": "45c083da",
   "metadata": {},
   "source": [
    "Pasamos el contenido HTML a la web a un objeto `BeautifulSoup()`"
   ]
  },
  {
   "cell_type": "markdown",
   "id": "d08258b1",
   "metadata": {},
   "source": [
    "html = `BeautifulSoup`(req.text, \"html.parser\")"
   ]
  },
  {
   "cell_type": "markdown",
   "id": "8218adf4",
   "metadata": {},
   "source": [
    "## Variables de datos"
   ]
  },
  {
   "cell_type": "markdown",
   "id": "0e906912",
   "metadata": {},
   "source": [
    "Definimos las variables `países`, `oros`, etc, y las identificamos en la función `find_all()`"
   ]
  },
  {
   "cell_type": "code",
   "execution_count": null,
   "id": "15d11010",
   "metadata": {},
   "outputs": [],
   "source": [
    "  paises = html.find_all(\"th\",{\"class\":\"pais\"})\n",
    "  oros = html.find_all(\"td\",{\"class\":\"m_oro\"})\n",
    "  platas = html.find_all(\"td\",{\"class\":\"m_plata\"})\n",
    "  bronces = html.find_all(\"td\",{\"class\":\"m_bronce\"})\n",
    "  totales = html.find_all(\"td\",{\"class\":\"m_total\"})"
   ]
  },
  {
   "cell_type": "markdown",
   "id": "93baa18e",
   "metadata": {},
   "source": [
    "## Hacemos la pregunta"
   ]
  },
  {
   "cell_type": "markdown",
   "id": "cd78e861",
   "metadata": {},
   "source": [
    "Es importante para que la persona que está al otro lado sepa qué le estamos preguntando."
   ]
  },
  {
   "cell_type": "code",
   "execution_count": null,
   "id": "fdded03a",
   "metadata": {},
   "outputs": [],
   "source": [
    "respuesta=input('¿QUIERES CONOCER LOS 20 PAÍSES QUE HAN OBTENIDO MÁS MEDALLAS EN 2020?\\n \\n Si tu respuesta es Sí, presiona \"s\" \\n')\n",
    "if(respuesta == 's'): \n",
    "  print('Vale, vamos a ello')\n"
   ]
  },
  {
   "cell_type": "markdown",
   "id": "be4587c0",
   "metadata": {},
   "source": [
    "## Bucle para obtener los datos"
   ]
  },
  {
   "cell_type": "markdown",
   "id": "554f952e",
   "metadata": {},
   "source": [
    "Para que nos enseñe todos los datos en base a las funciones que hemos marcado a lo largo de nuestra práctica de Scrapping. "
   ]
  },
  {
   "cell_type": "code",
   "execution_count": null,
   "id": "e20d7217",
   "metadata": {},
   "outputs": [],
   "source": [
    "  for i in range (20):\n",
    "    # Con el método \"getText()\" no nos devuelve el HTML\n",
    "    print(\"%d. %s \\nOro: %s Plata: %s Bronce: %s \\n Total: %s \\n \" % (i+1, paises[i+1].text.strip(),oros[i].text.strip(),platas[i].text.strip(),bronces[i].text.strip(), totales[i].text.strip()))\n",
    "\n",
    "  else:\n",
    "  print('Qué lástima, y...')"
   ]
  }
 ],
 "metadata": {
  "kernelspec": {
   "display_name": "Python 3",
   "language": "python",
   "name": "python3"
  },
  "language_info": {
   "codemirror_mode": {
    "name": "ipython",
    "version": 3
   },
   "file_extension": ".py",
   "mimetype": "text/x-python",
   "name": "python",
   "nbconvert_exporter": "python",
   "pygments_lexer": "ipython3",
   "version": "3.8.8"
  }
 },
 "nbformat": 4,
 "nbformat_minor": 5
}
