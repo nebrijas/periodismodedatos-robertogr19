{
 "cells": [
  {
   "cell_type": "markdown",
   "id": "2be80450",
   "metadata": {},
   "source": [
    "### API Pandas Folium\n",
    "- API\n",
    "- Pandas\n",
    "- Folium, mapas"
   ]
  },
  {
   "cell_type": "markdown",
   "id": "67b01ed0",
   "metadata": {},
   "source": [
    "## Instalar lebrerías\n"
   ]
  },
  {
   "cell_type": "markdown",
   "id": "77e8adcb",
   "metadata": {},
   "source": [
    "En primer lugar instalaremos la librería Pandas para poder tener las herramientas que nos van a permitir trabajar con los datos en los diferentes formatos que necesitamos: Excel, SQL, CSV y HDF5. Gracias a Pandas podremos filtrar fácilmente tablas de datos en función de nuestras necesidades"
   ]
  },
  {
   "cell_type": "code",
   "execution_count": 49,
   "id": "37420b2c",
   "metadata": {},
   "outputs": [
    {
     "name": "stdout",
     "output_type": "stream",
     "text": [
      "Requirement already satisfied: pandas in c:\\programdata\\anaconda3\\lib\\site-packages (1.2.4)\n",
      "Requirement already satisfied: folium in c:\\programdata\\anaconda3\\lib\\site-packages (0.12.1.post1)\n",
      "Requirement already satisfied: requests in c:\\programdata\\anaconda3\\lib\\site-packages (from folium) (2.25.1)\n",
      "Requirement already satisfied: jinja2>=2.9 in c:\\programdata\\anaconda3\\lib\\site-packages (from folium) (2.11.3)\n",
      "Requirement already satisfied: branca>=0.3.0 in c:\\programdata\\anaconda3\\lib\\site-packages (from folium) (0.4.2)\n",
      "Requirement already satisfied: numpy in c:\\programdata\\anaconda3\\lib\\site-packages (from folium) (1.20.1)\n",
      "Requirement already satisfied: MarkupSafe>=0.23 in c:\\programdata\\anaconda3\\lib\\site-packages (from jinja2>=2.9->folium) (1.1.1)\n",
      "Requirement already satisfied: python-dateutil>=2.7.3 in c:\\programdata\\anaconda3\\lib\\site-packages (from pandas) (2.8.1)\n",
      "Requirement already satisfied: pytz>=2017.3 in c:\\programdata\\anaconda3\\lib\\site-packages (from pandas) (2021.1)\n",
      "Requirement already satisfied: six>=1.5 in c:\\programdata\\anaconda3\\lib\\site-packages (from python-dateutil>=2.7.3->pandas) (1.15.0)\n",
      "Requirement already satisfied: certifi>=2017.4.17 in c:\\programdata\\anaconda3\\lib\\site-packages (from requests->folium) (2020.12.5)\n",
      "Requirement already satisfied: chardet<5,>=3.0.2 in c:\\programdata\\anaconda3\\lib\\site-packages (from requests->folium) (4.0.0)\n",
      "Requirement already satisfied: idna<3,>=2.5 in c:\\programdata\\anaconda3\\lib\\site-packages (from requests->folium) (2.10)\n",
      "Requirement already satisfied: urllib3<1.27,>=1.21.1 in c:\\programdata\\anaconda3\\lib\\site-packages (from requests->folium) (1.26.4)\n"
     ]
    }
   ],
   "source": [
    "!pip install pandas folium"
   ]
  },
  {
   "cell_type": "markdown",
   "id": "61597f90",
   "metadata": {},
   "source": [
    "## Configurar librerías"
   ]
  },
  {
   "cell_type": "markdown",
   "id": "a58a6381",
   "metadata": {},
   "source": [
    "Deberemos importarlas para poder usarlas en nuestro Notebook. Lo haremos usando las siguientes funciones:"
   ]
  },
  {
   "cell_type": "code",
   "execution_count": 50,
   "id": "0b7b184b",
   "metadata": {},
   "outputs": [],
   "source": [
    "import pandas as pd\n",
    "import folium"
   ]
  },
  {
   "cell_type": "markdown",
   "id": "a204fefe",
   "metadata": {},
   "source": [
    "## Variables\n",
    "\n",
    "Las variasbles que vamos a usar son:\n",
    "\n",
    "- url\n",
    "- coords_zrgz\n",
    "- mapa"
   ]
  },
  {
   "cell_type": "markdown",
   "id": "fae6e927",
   "metadata": {},
   "source": [
    "En primer lugar usaremos la URL de la que queremos exportar los datos, los accidentes de tráfico en Zaragoza. Usaremos la librería Folium para generar el mapa y le indicaremos las coordenadas del sitio que queremos que nos muestre. "
   ]
  },
  {
   "cell_type": "code",
   "execution_count": 51,
   "id": "5bb9c05c",
   "metadata": {},
   "outputs": [],
   "source": [
    "url = 'https://www.zaragoza.es/sede/servicio/transporte/accidentalidad-trafico/accidente.csv?rows=100'\n",
    "coords_zrgz = [41.649693,-0.887712]\n",
    "mapa = folium.Map(location=coords_zrgz)"
   ]
  },
  {
   "cell_type": "markdown",
   "id": "8ab70b95",
   "metadata": {},
   "source": [
    "Ahora llamamos al mapa, al que ya hemos dado valor en la función anterior"
   ]
  },
  {
   "cell_type": "code",
   "execution_count": 52,
   "id": "578c448e",
   "metadata": {},
   "outputs": [
    {
     "data": {
      "text/html": [
       "<div style=\"width:100%;\"><div style=\"position:relative;width:100%;height:0;padding-bottom:60%;\"><span style=\"color:#565656\">Make this Notebook Trusted to load map: File -> Trust Notebook</span><iframe src=\"about:blank\" style=\"position:absolute;width:100%;height:100%;left:0;top:0;border:none !important;\" data-html=%3C%21DOCTYPE%20html%3E%0A%3Chead%3E%20%20%20%20%0A%20%20%20%20%3Cmeta%20http-equiv%3D%22content-type%22%20content%3D%22text/html%3B%20charset%3DUTF-8%22%20/%3E%0A%20%20%20%20%0A%20%20%20%20%20%20%20%20%3Cscript%3E%0A%20%20%20%20%20%20%20%20%20%20%20%20L_NO_TOUCH%20%3D%20false%3B%0A%20%20%20%20%20%20%20%20%20%20%20%20L_DISABLE_3D%20%3D%20false%3B%0A%20%20%20%20%20%20%20%20%3C/script%3E%0A%20%20%20%20%0A%20%20%20%20%3Cstyle%3Ehtml%2C%20body%20%7Bwidth%3A%20100%25%3Bheight%3A%20100%25%3Bmargin%3A%200%3Bpadding%3A%200%3B%7D%3C/style%3E%0A%20%20%20%20%3Cstyle%3E%23map%20%7Bposition%3Aabsolute%3Btop%3A0%3Bbottom%3A0%3Bright%3A0%3Bleft%3A0%3B%7D%3C/style%3E%0A%20%20%20%20%3Cscript%20src%3D%22https%3A//cdn.jsdelivr.net/npm/leaflet%401.6.0/dist/leaflet.js%22%3E%3C/script%3E%0A%20%20%20%20%3Cscript%20src%3D%22https%3A//code.jquery.com/jquery-1.12.4.min.js%22%3E%3C/script%3E%0A%20%20%20%20%3Cscript%20src%3D%22https%3A//maxcdn.bootstrapcdn.com/bootstrap/3.2.0/js/bootstrap.min.js%22%3E%3C/script%3E%0A%20%20%20%20%3Cscript%20src%3D%22https%3A//cdnjs.cloudflare.com/ajax/libs/Leaflet.awesome-markers/2.0.2/leaflet.awesome-markers.js%22%3E%3C/script%3E%0A%20%20%20%20%3Clink%20rel%3D%22stylesheet%22%20href%3D%22https%3A//cdn.jsdelivr.net/npm/leaflet%401.6.0/dist/leaflet.css%22/%3E%0A%20%20%20%20%3Clink%20rel%3D%22stylesheet%22%20href%3D%22https%3A//maxcdn.bootstrapcdn.com/bootstrap/3.2.0/css/bootstrap.min.css%22/%3E%0A%20%20%20%20%3Clink%20rel%3D%22stylesheet%22%20href%3D%22https%3A//maxcdn.bootstrapcdn.com/bootstrap/3.2.0/css/bootstrap-theme.min.css%22/%3E%0A%20%20%20%20%3Clink%20rel%3D%22stylesheet%22%20href%3D%22https%3A//maxcdn.bootstrapcdn.com/font-awesome/4.6.3/css/font-awesome.min.css%22/%3E%0A%20%20%20%20%3Clink%20rel%3D%22stylesheet%22%20href%3D%22https%3A//cdnjs.cloudflare.com/ajax/libs/Leaflet.awesome-markers/2.0.2/leaflet.awesome-markers.css%22/%3E%0A%20%20%20%20%3Clink%20rel%3D%22stylesheet%22%20href%3D%22https%3A//cdn.jsdelivr.net/gh/python-visualization/folium/folium/templates/leaflet.awesome.rotate.min.css%22/%3E%0A%20%20%20%20%0A%20%20%20%20%20%20%20%20%20%20%20%20%3Cmeta%20name%3D%22viewport%22%20content%3D%22width%3Ddevice-width%2C%0A%20%20%20%20%20%20%20%20%20%20%20%20%20%20%20%20initial-scale%3D1.0%2C%20maximum-scale%3D1.0%2C%20user-scalable%3Dno%22%20/%3E%0A%20%20%20%20%20%20%20%20%20%20%20%20%3Cstyle%3E%0A%20%20%20%20%20%20%20%20%20%20%20%20%20%20%20%20%23map_a1020f0e5935425f9d7a557e4cf1147a%20%7B%0A%20%20%20%20%20%20%20%20%20%20%20%20%20%20%20%20%20%20%20%20position%3A%20relative%3B%0A%20%20%20%20%20%20%20%20%20%20%20%20%20%20%20%20%20%20%20%20width%3A%20100.0%25%3B%0A%20%20%20%20%20%20%20%20%20%20%20%20%20%20%20%20%20%20%20%20height%3A%20100.0%25%3B%0A%20%20%20%20%20%20%20%20%20%20%20%20%20%20%20%20%20%20%20%20left%3A%200.0%25%3B%0A%20%20%20%20%20%20%20%20%20%20%20%20%20%20%20%20%20%20%20%20top%3A%200.0%25%3B%0A%20%20%20%20%20%20%20%20%20%20%20%20%20%20%20%20%7D%0A%20%20%20%20%20%20%20%20%20%20%20%20%3C/style%3E%0A%20%20%20%20%20%20%20%20%0A%3C/head%3E%0A%3Cbody%3E%20%20%20%20%0A%20%20%20%20%0A%20%20%20%20%20%20%20%20%20%20%20%20%3Cdiv%20class%3D%22folium-map%22%20id%3D%22map_a1020f0e5935425f9d7a557e4cf1147a%22%20%3E%3C/div%3E%0A%20%20%20%20%20%20%20%20%0A%3C/body%3E%0A%3Cscript%3E%20%20%20%20%0A%20%20%20%20%0A%20%20%20%20%20%20%20%20%20%20%20%20var%20map_a1020f0e5935425f9d7a557e4cf1147a%20%3D%20L.map%28%0A%20%20%20%20%20%20%20%20%20%20%20%20%20%20%20%20%22map_a1020f0e5935425f9d7a557e4cf1147a%22%2C%0A%20%20%20%20%20%20%20%20%20%20%20%20%20%20%20%20%7B%0A%20%20%20%20%20%20%20%20%20%20%20%20%20%20%20%20%20%20%20%20center%3A%20%5B41.649693%2C%20-0.887712%5D%2C%0A%20%20%20%20%20%20%20%20%20%20%20%20%20%20%20%20%20%20%20%20crs%3A%20L.CRS.EPSG3857%2C%0A%20%20%20%20%20%20%20%20%20%20%20%20%20%20%20%20%20%20%20%20zoom%3A%2010%2C%0A%20%20%20%20%20%20%20%20%20%20%20%20%20%20%20%20%20%20%20%20zoomControl%3A%20true%2C%0A%20%20%20%20%20%20%20%20%20%20%20%20%20%20%20%20%20%20%20%20preferCanvas%3A%20false%2C%0A%20%20%20%20%20%20%20%20%20%20%20%20%20%20%20%20%7D%0A%20%20%20%20%20%20%20%20%20%20%20%20%29%3B%0A%0A%20%20%20%20%20%20%20%20%20%20%20%20%0A%0A%20%20%20%20%20%20%20%20%0A%20%20%20%20%0A%20%20%20%20%20%20%20%20%20%20%20%20var%20tile_layer_e7b550414ec54ceb9a57bb2c56809579%20%3D%20L.tileLayer%28%0A%20%20%20%20%20%20%20%20%20%20%20%20%20%20%20%20%22https%3A//%7Bs%7D.tile.openstreetmap.org/%7Bz%7D/%7Bx%7D/%7By%7D.png%22%2C%0A%20%20%20%20%20%20%20%20%20%20%20%20%20%20%20%20%7B%22attribution%22%3A%20%22Data%20by%20%5Cu0026copy%3B%20%5Cu003ca%20href%3D%5C%22http%3A//openstreetmap.org%5C%22%5Cu003eOpenStreetMap%5Cu003c/a%5Cu003e%2C%20under%20%5Cu003ca%20href%3D%5C%22http%3A//www.openstreetmap.org/copyright%5C%22%5Cu003eODbL%5Cu003c/a%5Cu003e.%22%2C%20%22detectRetina%22%3A%20false%2C%20%22maxNativeZoom%22%3A%2018%2C%20%22maxZoom%22%3A%2018%2C%20%22minZoom%22%3A%200%2C%20%22noWrap%22%3A%20false%2C%20%22opacity%22%3A%201%2C%20%22subdomains%22%3A%20%22abc%22%2C%20%22tms%22%3A%20false%7D%0A%20%20%20%20%20%20%20%20%20%20%20%20%29.addTo%28map_a1020f0e5935425f9d7a557e4cf1147a%29%3B%0A%20%20%20%20%20%20%20%20%0A%3C/script%3E onload=\"this.contentDocument.open();this.contentDocument.write(    decodeURIComponent(this.getAttribute('data-html')));this.contentDocument.close();\" allowfullscreen webkitallowfullscreen mozallowfullscreen></iframe></div></div>"
      ],
      "text/plain": [
       "<folium.folium.Map at 0x22e1e5ca070>"
      ]
     },
     "execution_count": 52,
     "metadata": {},
     "output_type": "execute_result"
    }
   ],
   "source": [
    "mapa"
   ]
  },
  {
   "cell_type": "markdown",
   "id": "c2c914ed",
   "metadata": {},
   "source": [
    "Vamos a crear un dataframe, que es como Python denomina a las tablas. Con la función delimiter, a la que llamaremos ;, para que la librería lea la función read csv. "
   ]
  },
  {
   "cell_type": "code",
   "execution_count": 53,
   "id": "6a859884",
   "metadata": {},
   "outputs": [
    {
     "data": {
      "text/html": [
       "<div>\n",
       "<style scoped>\n",
       "    .dataframe tbody tr th:only-of-type {\n",
       "        vertical-align: middle;\n",
       "    }\n",
       "\n",
       "    .dataframe tbody tr th {\n",
       "        vertical-align: top;\n",
       "    }\n",
       "\n",
       "    .dataframe thead th {\n",
       "        text-align: right;\n",
       "    }\n",
       "</style>\n",
       "<table border=\"1\" class=\"dataframe\">\n",
       "  <thead>\n",
       "    <tr style=\"text-align: right;\">\n",
       "      <th></th>\n",
       "      <th>id</th>\n",
       "      <th>year</th>\n",
       "      <th>type</th>\n",
       "      <th>accidentType</th>\n",
       "      <th>firstAddress</th>\n",
       "      <th>secondAddress</th>\n",
       "      <th>geometry</th>\n",
       "      <th>reason</th>\n",
       "      <th>area</th>\n",
       "      <th>creationDate</th>\n",
       "      <th>daniosMateriales</th>\n",
       "      <th>falloMecanico</th>\n",
       "      <th>estadoPavimento</th>\n",
       "      <th>tipoEstadoPavimento</th>\n",
       "      <th>estadoAtmosfera</th>\n",
       "      <th>tipoEstadoAtmosfera</th>\n",
       "      <th>afectado</th>\n",
       "      <th>vehiculo</th>\n",
       "    </tr>\n",
       "  </thead>\n",
       "  <tbody>\n",
       "    <tr>\n",
       "      <th>0</th>\n",
       "      <td>https://www.zaragoza.es/sede/servicio/transpor...</td>\n",
       "      <td>2014</td>\n",
       "      <td>SALIDA CALZADA</td>\n",
       "      <td>NaN</td>\n",
       "      <td>COSTA, JOAQUIN</td>\n",
       "      <td>PERAL, ISAAC</td>\n",
       "      <td>-0.8818527060979306,41.649027473051156</td>\n",
       "      <td>PERDIDA del control por FALTA de ATENCIÓN</td>\n",
       "      <td>NaN</td>\n",
       "      <td>2014-10-09T00:00:00Z</td>\n",
       "      <td>True</td>\n",
       "      <td>False</td>\n",
       "      <td>BUEN ESTADO</td>\n",
       "      <td>NaN</td>\n",
       "      <td>BUEN ESTADO</td>\n",
       "      <td>NaN</td>\n",
       "      <td>NaN</td>\n",
       "      <td>https://www.zaragoza.es/sede/servicio/transpor...</td>\n",
       "    </tr>\n",
       "    <tr>\n",
       "      <th>1</th>\n",
       "      <td>https://www.zaragoza.es/sede/servicio/transpor...</td>\n",
       "      <td>2014</td>\n",
       "      <td>COLISIÓN ALCANCE</td>\n",
       "      <td>NaN</td>\n",
       "      <td>CADENA(MARQUES DE LA)</td>\n",
       "      <td>NaN</td>\n",
       "      <td>-0.8645810716721081,41.661585829868585</td>\n",
       "      <td>DISTANCIA DE SEGURIDAD, no mantener</td>\n",
       "      <td>2560.0</td>\n",
       "      <td>2014-10-23T00:00:00Z</td>\n",
       "      <td>False</td>\n",
       "      <td>False</td>\n",
       "      <td>BUEN ESTADO</td>\n",
       "      <td>NaN</td>\n",
       "      <td>BUEN ESTADO</td>\n",
       "      <td>NaN</td>\n",
       "      <td>https://www.zaragoza.es/sede/servicio/transpor...</td>\n",
       "      <td>https://www.zaragoza.es/sede/servicio/transpor...</td>\n",
       "    </tr>\n",
       "    <tr>\n",
       "      <th>2</th>\n",
       "      <td>https://www.zaragoza.es/sede/servicio/transpor...</td>\n",
       "      <td>2014</td>\n",
       "      <td>COLISIÓN ALCANCE</td>\n",
       "      <td>NaN</td>\n",
       "      <td>GOMEZ AVELLANEDA, G.</td>\n",
       "      <td>CASTRO, R. (POETA)</td>\n",
       "      <td>-0.887776415002892,41.666992622958105</td>\n",
       "      <td>PERDIDA del control por FALTA de ATENCIÓN</td>\n",
       "      <td>2598.0</td>\n",
       "      <td>2014-10-23T00:00:00Z</td>\n",
       "      <td>False</td>\n",
       "      <td>False</td>\n",
       "      <td>BUEN ESTADO</td>\n",
       "      <td>NaN</td>\n",
       "      <td>BUEN ESTADO</td>\n",
       "      <td>NaN</td>\n",
       "      <td>https://www.zaragoza.es/sede/servicio/transpor...</td>\n",
       "      <td>https://www.zaragoza.es/sede/servicio/transpor...</td>\n",
       "    </tr>\n",
       "    <tr>\n",
       "      <th>3</th>\n",
       "      <td>https://www.zaragoza.es/sede/servicio/transpor...</td>\n",
       "      <td>2014</td>\n",
       "      <td>COLIS FRONTOLATERAL</td>\n",
       "      <td>NaN</td>\n",
       "      <td>MONZON</td>\n",
       "      <td>GARCIA CONDOY, H.</td>\n",
       "      <td>-0.8825260453930127,41.62957498750602</td>\n",
       "      <td>CEDA EL PASO, no respetar prioridad de paso</td>\n",
       "      <td>2555.0</td>\n",
       "      <td>2014-10-23T00:00:00Z</td>\n",
       "      <td>False</td>\n",
       "      <td>False</td>\n",
       "      <td>BUEN ESTADO</td>\n",
       "      <td>NaN</td>\n",
       "      <td>BUEN ESTADO</td>\n",
       "      <td>NaN</td>\n",
       "      <td>https://www.zaragoza.es/sede/servicio/transpor...</td>\n",
       "      <td>https://www.zaragoza.es/sede/servicio/transpor...</td>\n",
       "    </tr>\n",
       "    <tr>\n",
       "      <th>4</th>\n",
       "      <td>https://www.zaragoza.es/sede/servicio/transpor...</td>\n",
       "      <td>2014</td>\n",
       "      <td>SALIDA CALZADA</td>\n",
       "      <td>NaN</td>\n",
       "      <td>RIOJA</td>\n",
       "      <td>NAVARRA, AVENIDA DE</td>\n",
       "      <td>-0.908314757720389,41.6562121210704</td>\n",
       "      <td>PERDIDA del control por VELOCIDAD INADECUADA</td>\n",
       "      <td>2554.0</td>\n",
       "      <td>2014-10-24T00:00:00Z</td>\n",
       "      <td>False</td>\n",
       "      <td>False</td>\n",
       "      <td>BUEN ESTADO</td>\n",
       "      <td>NaN</td>\n",
       "      <td>BUEN ESTADO</td>\n",
       "      <td>NaN</td>\n",
       "      <td>https://www.zaragoza.es/sede/servicio/transpor...</td>\n",
       "      <td>https://www.zaragoza.es/sede/servicio/transpor...</td>\n",
       "    </tr>\n",
       "    <tr>\n",
       "      <th>...</th>\n",
       "      <td>...</td>\n",
       "      <td>...</td>\n",
       "      <td>...</td>\n",
       "      <td>...</td>\n",
       "      <td>...</td>\n",
       "      <td>...</td>\n",
       "      <td>...</td>\n",
       "      <td>...</td>\n",
       "      <td>...</td>\n",
       "      <td>...</td>\n",
       "      <td>...</td>\n",
       "      <td>...</td>\n",
       "      <td>...</td>\n",
       "      <td>...</td>\n",
       "      <td>...</td>\n",
       "      <td>...</td>\n",
       "      <td>...</td>\n",
       "      <td>...</td>\n",
       "    </tr>\n",
       "    <tr>\n",
       "      <th>95</th>\n",
       "      <td>https://www.zaragoza.es/sede/servicio/transpor...</td>\n",
       "      <td>2014</td>\n",
       "      <td>OTRAS</td>\n",
       "      <td>NaN</td>\n",
       "      <td>MIRAL, DOMINGO</td>\n",
       "      <td>NaN</td>\n",
       "      <td>-0.8990662796872798,41.63977012001253</td>\n",
       "      <td>PERDIDA del control por FALTA de ATENCIÓN</td>\n",
       "      <td>NaN</td>\n",
       "      <td>2014-07-30T00:00:00Z</td>\n",
       "      <td>True</td>\n",
       "      <td>False</td>\n",
       "      <td>BUEN ESTADO</td>\n",
       "      <td>NaN</td>\n",
       "      <td>BUEN ESTADO</td>\n",
       "      <td>NaN</td>\n",
       "      <td>NaN</td>\n",
       "      <td>https://www.zaragoza.es/sede/servicio/transpor...</td>\n",
       "    </tr>\n",
       "    <tr>\n",
       "      <th>96</th>\n",
       "      <td>https://www.zaragoza.es/sede/servicio/transpor...</td>\n",
       "      <td>2014</td>\n",
       "      <td>COLISIÓN ALCANCE</td>\n",
       "      <td>NaN</td>\n",
       "      <td>BUÑUEL,LUIS (PARQUE DEL AGUA)</td>\n",
       "      <td>NaN</td>\n",
       "      <td>-0.9072756956226459,41.670910841846876</td>\n",
       "      <td>PERDIDA del control por FALTA de ATENCIÓN</td>\n",
       "      <td>2071.0</td>\n",
       "      <td>2014-07-31T00:00:00Z</td>\n",
       "      <td>True</td>\n",
       "      <td>False</td>\n",
       "      <td>BUEN ESTADO</td>\n",
       "      <td>NaN</td>\n",
       "      <td>BUEN ESTADO</td>\n",
       "      <td>NaN</td>\n",
       "      <td>NaN</td>\n",
       "      <td>https://www.zaragoza.es/sede/servicio/transpor...</td>\n",
       "    </tr>\n",
       "    <tr>\n",
       "      <th>97</th>\n",
       "      <td>https://www.zaragoza.es/sede/servicio/transpor...</td>\n",
       "      <td>2014</td>\n",
       "      <td>SALIDA CALZADA</td>\n",
       "      <td>NaN</td>\n",
       "      <td>ALBAR, MANUEL GL.</td>\n",
       "      <td>ILUSTRACION, AV. DE LA</td>\n",
       "      <td>-0.9226018969034585,41.62757051008441</td>\n",
       "      <td>PERDIDA del control por FALTA de ATENCIÓN</td>\n",
       "      <td>1969.0</td>\n",
       "      <td>2014-07-25T00:00:00Z</td>\n",
       "      <td>False</td>\n",
       "      <td>False</td>\n",
       "      <td>BUEN ESTADO</td>\n",
       "      <td>NaN</td>\n",
       "      <td>BUEN ESTADO</td>\n",
       "      <td>NaN</td>\n",
       "      <td>https://www.zaragoza.es/sede/servicio/transpor...</td>\n",
       "      <td>https://www.zaragoza.es/sede/servicio/transpor...</td>\n",
       "    </tr>\n",
       "    <tr>\n",
       "      <th>98</th>\n",
       "      <td>https://www.zaragoza.es/sede/servicio/transpor...</td>\n",
       "      <td>2014</td>\n",
       "      <td>COLIS FRONTOLATERAL</td>\n",
       "      <td>NaN</td>\n",
       "      <td>ECHEGARAY Y CABALLERO</td>\n",
       "      <td>SAN VICENTE PAUL</td>\n",
       "      <td>-0.8735234620830842,41.65507219335992</td>\n",
       "      <td>SEMÁFORO, no respetar prioridad de paso</td>\n",
       "      <td>1970.0</td>\n",
       "      <td>2014-07-26T00:00:00Z</td>\n",
       "      <td>False</td>\n",
       "      <td>False</td>\n",
       "      <td>BUEN ESTADO</td>\n",
       "      <td>NaN</td>\n",
       "      <td>BUEN ESTADO</td>\n",
       "      <td>NaN</td>\n",
       "      <td>https://www.zaragoza.es/sede/servicio/transpor...</td>\n",
       "      <td>https://www.zaragoza.es/sede/servicio/transpor...</td>\n",
       "    </tr>\n",
       "    <tr>\n",
       "      <th>99</th>\n",
       "      <td>https://www.zaragoza.es/sede/servicio/transpor...</td>\n",
       "      <td>2014</td>\n",
       "      <td>SALIDA CALZADA</td>\n",
       "      <td>NaN</td>\n",
       "      <td>CESAR AUGUSTO, AVDA</td>\n",
       "      <td>NaN</td>\n",
       "      <td>-0.8869504077778204,41.65022964156985</td>\n",
       "      <td>PERDIDA del control por FALTA de ATENCIÓN</td>\n",
       "      <td>1971.0</td>\n",
       "      <td>2014-07-09T00:00:00Z</td>\n",
       "      <td>True</td>\n",
       "      <td>False</td>\n",
       "      <td>BUEN ESTADO</td>\n",
       "      <td>NaN</td>\n",
       "      <td>BUEN ESTADO</td>\n",
       "      <td>NaN</td>\n",
       "      <td>NaN</td>\n",
       "      <td>https://www.zaragoza.es/sede/servicio/transpor...</td>\n",
       "    </tr>\n",
       "  </tbody>\n",
       "</table>\n",
       "<p>100 rows × 18 columns</p>\n",
       "</div>"
      ],
      "text/plain": [
       "                                                   id  year  \\\n",
       "0   https://www.zaragoza.es/sede/servicio/transpor...  2014   \n",
       "1   https://www.zaragoza.es/sede/servicio/transpor...  2014   \n",
       "2   https://www.zaragoza.es/sede/servicio/transpor...  2014   \n",
       "3   https://www.zaragoza.es/sede/servicio/transpor...  2014   \n",
       "4   https://www.zaragoza.es/sede/servicio/transpor...  2014   \n",
       "..                                                ...   ...   \n",
       "95  https://www.zaragoza.es/sede/servicio/transpor...  2014   \n",
       "96  https://www.zaragoza.es/sede/servicio/transpor...  2014   \n",
       "97  https://www.zaragoza.es/sede/servicio/transpor...  2014   \n",
       "98  https://www.zaragoza.es/sede/servicio/transpor...  2014   \n",
       "99  https://www.zaragoza.es/sede/servicio/transpor...  2014   \n",
       "\n",
       "                   type  accidentType                   firstAddress  \\\n",
       "0        SALIDA CALZADA           NaN                 COSTA, JOAQUIN   \n",
       "1      COLISIÓN ALCANCE           NaN          CADENA(MARQUES DE LA)   \n",
       "2      COLISIÓN ALCANCE           NaN           GOMEZ AVELLANEDA, G.   \n",
       "3   COLIS FRONTOLATERAL           NaN                         MONZON   \n",
       "4        SALIDA CALZADA           NaN                          RIOJA   \n",
       "..                  ...           ...                            ...   \n",
       "95                OTRAS           NaN                 MIRAL, DOMINGO   \n",
       "96     COLISIÓN ALCANCE           NaN  BUÑUEL,LUIS (PARQUE DEL AGUA)   \n",
       "97       SALIDA CALZADA           NaN              ALBAR, MANUEL GL.   \n",
       "98  COLIS FRONTOLATERAL           NaN          ECHEGARAY Y CABALLERO   \n",
       "99       SALIDA CALZADA           NaN            CESAR AUGUSTO, AVDA   \n",
       "\n",
       "             secondAddress                                geometry  \\\n",
       "0             PERAL, ISAAC  -0.8818527060979306,41.649027473051156   \n",
       "1                      NaN  -0.8645810716721081,41.661585829868585   \n",
       "2       CASTRO, R. (POETA)   -0.887776415002892,41.666992622958105   \n",
       "3        GARCIA CONDOY, H.   -0.8825260453930127,41.62957498750602   \n",
       "4      NAVARRA, AVENIDA DE     -0.908314757720389,41.6562121210704   \n",
       "..                     ...                                     ...   \n",
       "95                     NaN   -0.8990662796872798,41.63977012001253   \n",
       "96                     NaN  -0.9072756956226459,41.670910841846876   \n",
       "97  ILUSTRACION, AV. DE LA   -0.9226018969034585,41.62757051008441   \n",
       "98        SAN VICENTE PAUL   -0.8735234620830842,41.65507219335992   \n",
       "99                     NaN   -0.8869504077778204,41.65022964156985   \n",
       "\n",
       "                                          reason    area  \\\n",
       "0      PERDIDA del control por FALTA de ATENCIÓN     NaN   \n",
       "1            DISTANCIA DE SEGURIDAD, no mantener  2560.0   \n",
       "2      PERDIDA del control por FALTA de ATENCIÓN  2598.0   \n",
       "3    CEDA EL PASO, no respetar prioridad de paso  2555.0   \n",
       "4   PERDIDA del control por VELOCIDAD INADECUADA  2554.0   \n",
       "..                                           ...     ...   \n",
       "95     PERDIDA del control por FALTA de ATENCIÓN     NaN   \n",
       "96     PERDIDA del control por FALTA de ATENCIÓN  2071.0   \n",
       "97     PERDIDA del control por FALTA de ATENCIÓN  1969.0   \n",
       "98       SEMÁFORO, no respetar prioridad de paso  1970.0   \n",
       "99     PERDIDA del control por FALTA de ATENCIÓN  1971.0   \n",
       "\n",
       "            creationDate  daniosMateriales  falloMecanico estadoPavimento  \\\n",
       "0   2014-10-09T00:00:00Z              True          False     BUEN ESTADO   \n",
       "1   2014-10-23T00:00:00Z             False          False     BUEN ESTADO   \n",
       "2   2014-10-23T00:00:00Z             False          False     BUEN ESTADO   \n",
       "3   2014-10-23T00:00:00Z             False          False     BUEN ESTADO   \n",
       "4   2014-10-24T00:00:00Z             False          False     BUEN ESTADO   \n",
       "..                   ...               ...            ...             ...   \n",
       "95  2014-07-30T00:00:00Z              True          False     BUEN ESTADO   \n",
       "96  2014-07-31T00:00:00Z              True          False     BUEN ESTADO   \n",
       "97  2014-07-25T00:00:00Z             False          False     BUEN ESTADO   \n",
       "98  2014-07-26T00:00:00Z             False          False     BUEN ESTADO   \n",
       "99  2014-07-09T00:00:00Z              True          False     BUEN ESTADO   \n",
       "\n",
       "    tipoEstadoPavimento estadoAtmosfera  tipoEstadoAtmosfera  \\\n",
       "0                   NaN     BUEN ESTADO                  NaN   \n",
       "1                   NaN     BUEN ESTADO                  NaN   \n",
       "2                   NaN     BUEN ESTADO                  NaN   \n",
       "3                   NaN     BUEN ESTADO                  NaN   \n",
       "4                   NaN     BUEN ESTADO                  NaN   \n",
       "..                  ...             ...                  ...   \n",
       "95                  NaN     BUEN ESTADO                  NaN   \n",
       "96                  NaN     BUEN ESTADO                  NaN   \n",
       "97                  NaN     BUEN ESTADO                  NaN   \n",
       "98                  NaN     BUEN ESTADO                  NaN   \n",
       "99                  NaN     BUEN ESTADO                  NaN   \n",
       "\n",
       "                                             afectado  \\\n",
       "0                                                 NaN   \n",
       "1   https://www.zaragoza.es/sede/servicio/transpor...   \n",
       "2   https://www.zaragoza.es/sede/servicio/transpor...   \n",
       "3   https://www.zaragoza.es/sede/servicio/transpor...   \n",
       "4   https://www.zaragoza.es/sede/servicio/transpor...   \n",
       "..                                                ...   \n",
       "95                                                NaN   \n",
       "96                                                NaN   \n",
       "97  https://www.zaragoza.es/sede/servicio/transpor...   \n",
       "98  https://www.zaragoza.es/sede/servicio/transpor...   \n",
       "99                                                NaN   \n",
       "\n",
       "                                             vehiculo  \n",
       "0   https://www.zaragoza.es/sede/servicio/transpor...  \n",
       "1   https://www.zaragoza.es/sede/servicio/transpor...  \n",
       "2   https://www.zaragoza.es/sede/servicio/transpor...  \n",
       "3   https://www.zaragoza.es/sede/servicio/transpor...  \n",
       "4   https://www.zaragoza.es/sede/servicio/transpor...  \n",
       "..                                                ...  \n",
       "95  https://www.zaragoza.es/sede/servicio/transpor...  \n",
       "96  https://www.zaragoza.es/sede/servicio/transpor...  \n",
       "97  https://www.zaragoza.es/sede/servicio/transpor...  \n",
       "98  https://www.zaragoza.es/sede/servicio/transpor...  \n",
       "99  https://www.zaragoza.es/sede/servicio/transpor...  \n",
       "\n",
       "[100 rows x 18 columns]"
      ]
     },
     "execution_count": 53,
     "metadata": {},
     "output_type": "execute_result"
    }
   ],
   "source": [
    "df = pd.read_csv(url,delimiter=';')\n",
    "df"
   ]
  },
  {
   "cell_type": "markdown",
   "id": "dae77a05",
   "metadata": {},
   "source": [
    "# Exploración de la tabla"
   ]
  },
  {
   "cell_type": "markdown",
   "id": "8b524869",
   "metadata": {},
   "source": [
    "Para conocer cuáles son los nombres de cada columna utilizaremos la función df.columns"
   ]
  },
  {
   "cell_type": "code",
   "execution_count": 54,
   "id": "9b503090",
   "metadata": {},
   "outputs": [
    {
     "data": {
      "text/plain": [
       "Index(['id', 'year', 'type', 'accidentType', 'firstAddress', 'secondAddress',\n",
       "       'geometry', 'reason', 'area', 'creationDate', 'daniosMateriales',\n",
       "       'falloMecanico', 'estadoPavimento', 'tipoEstadoPavimento',\n",
       "       'estadoAtmosfera', 'tipoEstadoAtmosfera', 'afectado', 'vehiculo'],\n",
       "      dtype='object')"
      ]
     },
     "execution_count": 54,
     "metadata": {},
     "output_type": "execute_result"
    }
   ],
   "source": [
    "df.columns"
   ]
  },
  {
   "cell_type": "markdown",
   "id": "4edb95ab",
   "metadata": {},
   "source": [
    "Con esta función le pediremos que nos muestre los datos de la columna geometry"
   ]
  },
  {
   "cell_type": "code",
   "execution_count": 55,
   "id": "c0054fd2",
   "metadata": {},
   "outputs": [
    {
     "data": {
      "text/plain": [
       "0     -0.8818527060979306,41.649027473051156\n",
       "1     -0.8645810716721081,41.661585829868585\n",
       "2      -0.887776415002892,41.666992622958105\n",
       "3      -0.8825260453930127,41.62957498750602\n",
       "4        -0.908314757720389,41.6562121210704\n",
       "                       ...                  \n",
       "95     -0.8990662796872798,41.63977012001253\n",
       "96    -0.9072756956226459,41.670910841846876\n",
       "97     -0.9226018969034585,41.62757051008441\n",
       "98     -0.8735234620830842,41.65507219335992\n",
       "99     -0.8869504077778204,41.65022964156985\n",
       "Name: geometry, Length: 100, dtype: object"
      ]
     },
     "execution_count": 55,
     "metadata": {},
     "output_type": "execute_result"
    }
   ],
   "source": [
    "df['geometry']"
   ]
  },
  {
   "cell_type": "markdown",
   "id": "87c208a4",
   "metadata": {},
   "source": [
    "Con esta función definiremos los tipos de datos que tiene nuestra tabla"
   ]
  },
  {
   "cell_type": "code",
   "execution_count": 56,
   "id": "bb1140cb",
   "metadata": {},
   "outputs": [
    {
     "name": "stdout",
     "output_type": "stream",
     "text": [
      "<class 'pandas.core.frame.DataFrame'>\n",
      "RangeIndex: 100 entries, 0 to 99\n",
      "Data columns (total 18 columns):\n",
      " #   Column               Non-Null Count  Dtype  \n",
      "---  ------               --------------  -----  \n",
      " 0   id                   100 non-null    object \n",
      " 1   year                 100 non-null    int64  \n",
      " 2   type                 100 non-null    object \n",
      " 3   accidentType         0 non-null      float64\n",
      " 4   firstAddress         100 non-null    object \n",
      " 5   secondAddress        48 non-null     object \n",
      " 6   geometry             100 non-null    object \n",
      " 7   reason               100 non-null    object \n",
      " 8   area                 79 non-null     float64\n",
      " 9   creationDate         100 non-null    object \n",
      " 10  daniosMateriales     100 non-null    bool   \n",
      " 11  falloMecanico        100 non-null    bool   \n",
      " 12  estadoPavimento      100 non-null    object \n",
      " 13  tipoEstadoPavimento  0 non-null      float64\n",
      " 14  estadoAtmosfera      100 non-null    object \n",
      " 15  tipoEstadoAtmosfera  0 non-null      float64\n",
      " 16  afectado             44 non-null     object \n",
      " 17  vehiculo             100 non-null    object \n",
      "dtypes: bool(2), float64(4), int64(1), object(11)\n",
      "memory usage: 12.8+ KB\n"
     ]
    }
   ],
   "source": [
    "df.info()"
   ]
  },
  {
   "cell_type": "markdown",
   "id": "67692970",
   "metadata": {},
   "source": [
    "Con la siguiente función conoceremos la información numérica"
   ]
  },
  {
   "cell_type": "code",
   "execution_count": 57,
   "id": "4ca679aa",
   "metadata": {},
   "outputs": [
    {
     "data": {
      "text/html": [
       "<div>\n",
       "<style scoped>\n",
       "    .dataframe tbody tr th:only-of-type {\n",
       "        vertical-align: middle;\n",
       "    }\n",
       "\n",
       "    .dataframe tbody tr th {\n",
       "        vertical-align: top;\n",
       "    }\n",
       "\n",
       "    .dataframe thead th {\n",
       "        text-align: right;\n",
       "    }\n",
       "</style>\n",
       "<table border=\"1\" class=\"dataframe\">\n",
       "  <thead>\n",
       "    <tr style=\"text-align: right;\">\n",
       "      <th></th>\n",
       "      <th>year</th>\n",
       "      <th>accidentType</th>\n",
       "      <th>area</th>\n",
       "      <th>tipoEstadoPavimento</th>\n",
       "      <th>tipoEstadoAtmosfera</th>\n",
       "    </tr>\n",
       "  </thead>\n",
       "  <tbody>\n",
       "    <tr>\n",
       "      <th>count</th>\n",
       "      <td>100.000000</td>\n",
       "      <td>0.0</td>\n",
       "      <td>79.000000</td>\n",
       "      <td>0.0</td>\n",
       "      <td>0.0</td>\n",
       "    </tr>\n",
       "    <tr>\n",
       "      <th>mean</th>\n",
       "      <td>2013.590000</td>\n",
       "      <td>NaN</td>\n",
       "      <td>3341.569620</td>\n",
       "      <td>NaN</td>\n",
       "      <td>NaN</td>\n",
       "    </tr>\n",
       "    <tr>\n",
       "      <th>std</th>\n",
       "      <td>0.494311</td>\n",
       "      <td>NaN</td>\n",
       "      <td>1225.936991</td>\n",
       "      <td>NaN</td>\n",
       "      <td>NaN</td>\n",
       "    </tr>\n",
       "    <tr>\n",
       "      <th>min</th>\n",
       "      <td>2013.000000</td>\n",
       "      <td>NaN</td>\n",
       "      <td>17.000000</td>\n",
       "      <td>NaN</td>\n",
       "      <td>NaN</td>\n",
       "    </tr>\n",
       "    <tr>\n",
       "      <th>25%</th>\n",
       "      <td>2013.000000</td>\n",
       "      <td>NaN</td>\n",
       "      <td>2604.500000</td>\n",
       "      <td>NaN</td>\n",
       "      <td>NaN</td>\n",
       "    </tr>\n",
       "    <tr>\n",
       "      <th>50%</th>\n",
       "      <td>2014.000000</td>\n",
       "      <td>NaN</td>\n",
       "      <td>2659.000000</td>\n",
       "      <td>NaN</td>\n",
       "      <td>NaN</td>\n",
       "    </tr>\n",
       "    <tr>\n",
       "      <th>75%</th>\n",
       "      <td>2014.000000</td>\n",
       "      <td>NaN</td>\n",
       "      <td>4627.500000</td>\n",
       "      <td>NaN</td>\n",
       "      <td>NaN</td>\n",
       "    </tr>\n",
       "    <tr>\n",
       "      <th>max</th>\n",
       "      <td>2014.000000</td>\n",
       "      <td>NaN</td>\n",
       "      <td>4783.000000</td>\n",
       "      <td>NaN</td>\n",
       "      <td>NaN</td>\n",
       "    </tr>\n",
       "  </tbody>\n",
       "</table>\n",
       "</div>"
      ],
      "text/plain": [
       "              year  accidentType         area  tipoEstadoPavimento  \\\n",
       "count   100.000000           0.0    79.000000                  0.0   \n",
       "mean   2013.590000           NaN  3341.569620                  NaN   \n",
       "std       0.494311           NaN  1225.936991                  NaN   \n",
       "min    2013.000000           NaN    17.000000                  NaN   \n",
       "25%    2013.000000           NaN  2604.500000                  NaN   \n",
       "50%    2014.000000           NaN  2659.000000                  NaN   \n",
       "75%    2014.000000           NaN  4627.500000                  NaN   \n",
       "max    2014.000000           NaN  4783.000000                  NaN   \n",
       "\n",
       "       tipoEstadoAtmosfera  \n",
       "count                  0.0  \n",
       "mean                   NaN  \n",
       "std                    NaN  \n",
       "min                    NaN  \n",
       "25%                    NaN  \n",
       "50%                    NaN  \n",
       "75%                    NaN  \n",
       "max                    NaN  "
      ]
     },
     "execution_count": 57,
     "metadata": {},
     "output_type": "execute_result"
    }
   ],
   "source": [
    "df.describe()"
   ]
  },
  {
   "cell_type": "markdown",
   "id": "8fe8d9b2",
   "metadata": {},
   "source": [
    "Con esta función le pediremos que nos muestre los datos de la columna type con una descripción de valores únicos. Gracias a esta función sabremos cuáles son los valores únicos de nuestra tabla. "
   ]
  },
  {
   "cell_type": "code",
   "execution_count": 58,
   "id": "13465997",
   "metadata": {},
   "outputs": [
    {
     "data": {
      "text/plain": [
       "array(['SALIDA CALZADA', 'COLISIÓN ALCANCE', 'COLIS FRONTOLATERAL',\n",
       "       'OTRAS', 'ATROPELLO', 'CAIDA SOBRE CALZADA', 'COLIS. MARCHA ATRÁS',\n",
       "       'COLISIÓN LATERAL'], dtype=object)"
      ]
     },
     "execution_count": 58,
     "metadata": {},
     "output_type": "execute_result"
    }
   ],
   "source": [
    "df['type'].unique()"
   ]
  },
  {
   "cell_type": "markdown",
   "id": "e66e525f",
   "metadata": {},
   "source": [
    "Esta función nos dice qué tipo de dato es la primera celda de la columna geometry. Nos mostrará un str, o lo que es lo mismo, una cadena de caracteres. Con la función split le pediremos que nos separe las dos celdas de la columna geometry con una coma para diferenciar latitud y longitud."
   ]
  },
  {
   "cell_type": "code",
   "execution_count": 59,
   "id": "ded1a9de",
   "metadata": {},
   "outputs": [
    {
     "data": {
      "text/plain": [
       "str"
      ]
     },
     "execution_count": 59,
     "metadata": {},
     "output_type": "execute_result"
    }
   ],
   "source": [
    "type(df['geometry'][0])"
   ]
  },
  {
   "cell_type": "code",
   "execution_count": 60,
   "id": "391c507e",
   "metadata": {},
   "outputs": [
    {
     "data": {
      "text/plain": [
       "['-0.8818527060979306', '41.649027473051156']"
      ]
     },
     "execution_count": 60,
     "metadata": {},
     "output_type": "execute_result"
    }
   ],
   "source": [
    "df['geometry'][0].split(',')"
   ]
  },
  {
   "cell_type": "markdown",
   "id": "c5c85698",
   "metadata": {},
   "source": [
    "A continuación crearemos un punto geográfico con los datos obtenidos al que llamaremos point."
   ]
  },
  {
   "cell_type": "code",
   "execution_count": 61,
   "id": "eef30ec8",
   "metadata": {},
   "outputs": [
    {
     "data": {
      "text/plain": [
       "['-0.8818527060979306', '41.649027473051156']"
      ]
     },
     "execution_count": 61,
     "metadata": {},
     "output_type": "execute_result"
    }
   ],
   "source": [
    "point = df['geometry'][0].split(',')\n",
    "point"
   ]
  },
  {
   "cell_type": "markdown",
   "id": "919b7d17",
   "metadata": {},
   "source": [
    "Vamos a hacer un bucle para cada uno de los elementos de la columna geometry. En el primero separaremos las longitudes y en el segundo las latitudes"
   ]
  },
  {
   "cell_type": "code",
   "execution_count": 62,
   "id": "5a32ed80",
   "metadata": {},
   "outputs": [],
   "source": [
    "longitudes = []\n",
    "latitudes = []"
   ]
  },
  {
   "cell_type": "markdown",
   "id": "4e332270",
   "metadata": {},
   "source": [
    "Usando los siguientes códigos le pediremos que nos muestre las longitudes "
   ]
  },
  {
   "cell_type": "code",
   "execution_count": 63,
   "id": "bd6b2feb",
   "metadata": {},
   "outputs": [
    {
     "data": {
      "text/plain": [
       "[41.649027473051156,\n",
       " 41.661585829868585,\n",
       " 41.666992622958105,\n",
       " 41.62957498750602,\n",
       " 41.6562121210704,\n",
       " 41.65949772773082,\n",
       " 41.633353667694024,\n",
       " 41.6390382112928,\n",
       " 41.64083344974765,\n",
       " 41.64904657717317,\n",
       " 41.64322365075108,\n",
       " 41.68753087470739,\n",
       " 41.661646612715046,\n",
       " 41.6454384961757,\n",
       " 41.65543768899759,\n",
       " 41.65180346604993,\n",
       " 41.65233828238132,\n",
       " 41.65040494617356,\n",
       " 41.645335650478316,\n",
       " 41.609992514227066,\n",
       " 41.63379905763323,\n",
       " 41.63275556609146,\n",
       " 41.63808926467497,\n",
       " 41.677487884305975,\n",
       " 41.620591734015946,\n",
       " 41.64931371437485,\n",
       " 41.646890443474554,\n",
       " 41.62404668544956,\n",
       " 41.63964884250951,\n",
       " 41.638477534601776,\n",
       " 41.64332496247496,\n",
       " 41.65260977469196,\n",
       " 41.65248328671194,\n",
       " 41.6474034449745,\n",
       " 41.64926981833846,\n",
       " 41.650740541708075,\n",
       " 41.638807389014836,\n",
       " 41.66374540604866,\n",
       " 41.64886535549928,\n",
       " 41.63265453864093,\n",
       " 41.67281318904247,\n",
       " 41.66895757951277,\n",
       " 41.71496486522088,\n",
       " 41.67007665525934,\n",
       " 41.63484525009101,\n",
       " 41.64060309287472,\n",
       " 41.66210291413718,\n",
       " 41.63348367532985,\n",
       " 41.67593597602368,\n",
       " 41.672106692157605,\n",
       " 41.670796057267296,\n",
       " 41.634304213138115,\n",
       " 41.65154680743475,\n",
       " 41.62152191885522,\n",
       " 41.64737203882021,\n",
       " 41.64583899054114,\n",
       " 41.63444197353212,\n",
       " 41.647668760113724,\n",
       " 41.64713372980882,\n",
       " 41.66759236644088,\n",
       " 41.633156268397784,\n",
       " 41.65815100896193,\n",
       " 41.606852016162875,\n",
       " 41.665547003703814,\n",
       " 41.681817186609294,\n",
       " 41.653142424569985,\n",
       " 41.65471375662296,\n",
       " 41.653113831884326,\n",
       " 41.637370118574715,\n",
       " 41.62307965046806,\n",
       " 41.703559179288035,\n",
       " 41.63800946128376,\n",
       " 41.65509967011824,\n",
       " 41.640231801283996,\n",
       " 41.66399317788149,\n",
       " 41.640202296609836,\n",
       " 41.64045052143847,\n",
       " 41.650342929846744,\n",
       " 41.6515948922118,\n",
       " 41.639588711692504,\n",
       " 41.64547114097832,\n",
       " 41.60941879505107,\n",
       " 41.63594510671276,\n",
       " 41.65806605032787,\n",
       " 41.65124740456308,\n",
       " 41.64919114164,\n",
       " 41.68415187120862,\n",
       " 41.64775005399505,\n",
       " 41.647640923398896,\n",
       " 41.64628513907135,\n",
       " 41.646572275866276,\n",
       " 41.64976600318248,\n",
       " 41.653508476745046,\n",
       " 41.647798885967035,\n",
       " 41.64963422246641,\n",
       " 41.63977012001253,\n",
       " 41.670910841846876,\n",
       " 41.62757051008441,\n",
       " 41.65507219335992,\n",
       " 41.65022964156985]"
      ]
     },
     "execution_count": 63,
     "metadata": {},
     "output_type": "execute_result"
    }
   ],
   "source": [
    "for i in df['geometry']:\n",
    "    punto_coord = i.split(',')\n",
    "    longitudes += [float(punto_coord[1])]\n",
    "longitudes"
   ]
  },
  {
   "cell_type": "markdown",
   "id": "8e904fe7",
   "metadata": {},
   "source": [
    "Y con este, las latitudes"
   ]
  },
  {
   "cell_type": "code",
   "execution_count": 64,
   "id": "d5b8729b",
   "metadata": {},
   "outputs": [
    {
     "data": {
      "text/plain": [
       "[-0.8818527060979306,\n",
       " -0.8645810716721081,\n",
       " -0.887776415002892,\n",
       " -0.8825260453930127,\n",
       " -0.908314757720389,\n",
       " -0.8691088511672924,\n",
       " -0.8880337913721866,\n",
       " -0.8708838775078237,\n",
       " -0.8970649943808023,\n",
       " -0.8718525605769747,\n",
       " -0.8964627561577849,\n",
       " -0.8778095796207178,\n",
       " -0.8812157329722801,\n",
       " -0.8762000299022707,\n",
       " -0.9089013552408617,\n",
       " -0.9004729973337304,\n",
       " -0.8917562993466011,\n",
       " -0.888856043735591,\n",
       " -0.8629911318784169,\n",
       " -0.8870207060655807,\n",
       " -0.8636325074780108,\n",
       " -0.8760724207544668,\n",
       " -0.9036852209830768,\n",
       " -0.8896980442453839,\n",
       " -0.9018264648858587,\n",
       " -0.9187726932212442,\n",
       " -0.8855988456901538,\n",
       " -0.887523212911549,\n",
       " -0.8863120908790753,\n",
       " -0.8689640327130923,\n",
       " -0.8900650666830714,\n",
       " -0.8918524618079099,\n",
       " -0.9104038365599549,\n",
       " -0.8850103896969528,\n",
       " -0.8734135018983006,\n",
       " -0.8593239531218387,\n",
       " -0.868891092151338,\n",
       " -0.9008107424460443,\n",
       " -0.9211220937948997,\n",
       " -0.9026681648170423,\n",
       " -0.8893162332922886,\n",
       " -0.8890866503471749,\n",
       " -0.8439506345833918,\n",
       " -0.8665477541801948,\n",
       " -0.8848493117953854,\n",
       " -0.9147014503640727,\n",
       " -0.9388159722509236,\n",
       " -0.9157439755527074,\n",
       " -0.8869959298557372,\n",
       " -0.876909940066992,\n",
       " -0.8816447317118501,\n",
       " -0.9072940747876611,\n",
       " -0.9297774953117621,\n",
       " -0.9260243926745974,\n",
       " -0.8747826613487039,\n",
       " -0.8808426934572774,\n",
       " -0.9244213411763852,\n",
       " -0.8837000032645412,\n",
       " -0.8949697510455706,\n",
       " -0.8586802458354249,\n",
       " -0.8824516125202209,\n",
       " -0.8857803278979575,\n",
       " -0.8901425582260953,\n",
       " -0.8853994844903159,\n",
       " -0.8988224291930889,\n",
       " -0.878399626737674,\n",
       " -0.9005718898973313,\n",
       " -0.8754417396680656,\n",
       " -0.8981774282134238,\n",
       " -0.9134005222660053,\n",
       " -0.9675955686913701,\n",
       " -0.8994494084124403,\n",
       " -0.9047634312813823,\n",
       " -0.8796660379583326,\n",
       " -0.8569442253224475,\n",
       " -0.8866382760165721,\n",
       " -0.9148179357831321,\n",
       " -0.91679280832361,\n",
       " -0.9831600853628304,\n",
       " -0.8805502979311851,\n",
       " -0.8834784288071386,\n",
       " -0.8907819329164345,\n",
       " -0.9129045578911849,\n",
       " -0.929341406599246,\n",
       " -0.9015144446496385,\n",
       " -0.8971281972974198,\n",
       " -0.8655422071013779,\n",
       " -0.9345679624034625,\n",
       " -0.9162444486972013,\n",
       " -0.9075234410781284,\n",
       " -0.8740118451885867,\n",
       " -0.8879390016835017,\n",
       " -0.8748263473540919,\n",
       " -0.893364249304231,\n",
       " -0.8793428209752854,\n",
       " -0.8990662796872798,\n",
       " -0.9072756956226459,\n",
       " -0.9226018969034585,\n",
       " -0.8735234620830842,\n",
       " -0.8869504077778204]"
      ]
     },
     "execution_count": 64,
     "metadata": {},
     "output_type": "execute_result"
    }
   ],
   "source": [
    "for i in df['geometry']:\n",
    "    punto_coord = i.split(',')\n",
    "    latitudes += [float(punto_coord[0])]\n",
    "latitudes"
   ]
  },
  {
   "cell_type": "markdown",
   "id": "5e48f4ea",
   "metadata": {},
   "source": [
    "Con esta función crearemos un data frame de las coordenadas uniendo ambos puntos. "
   ]
  },
  {
   "cell_type": "code",
   "execution_count": 65,
   "id": "2ee20c8a",
   "metadata": {},
   "outputs": [
    {
     "data": {
      "text/html": [
       "<div>\n",
       "<style scoped>\n",
       "    .dataframe tbody tr th:only-of-type {\n",
       "        vertical-align: middle;\n",
       "    }\n",
       "\n",
       "    .dataframe tbody tr th {\n",
       "        vertical-align: top;\n",
       "    }\n",
       "\n",
       "    .dataframe thead th {\n",
       "        text-align: right;\n",
       "    }\n",
       "</style>\n",
       "<table border=\"1\" class=\"dataframe\">\n",
       "  <thead>\n",
       "    <tr style=\"text-align: right;\">\n",
       "      <th></th>\n",
       "      <th>long</th>\n",
       "      <th>lat</th>\n",
       "    </tr>\n",
       "  </thead>\n",
       "  <tbody>\n",
       "    <tr>\n",
       "      <th>0</th>\n",
       "      <td>41.649027</td>\n",
       "      <td>-0.881853</td>\n",
       "    </tr>\n",
       "    <tr>\n",
       "      <th>1</th>\n",
       "      <td>41.661586</td>\n",
       "      <td>-0.864581</td>\n",
       "    </tr>\n",
       "    <tr>\n",
       "      <th>2</th>\n",
       "      <td>41.666993</td>\n",
       "      <td>-0.887776</td>\n",
       "    </tr>\n",
       "    <tr>\n",
       "      <th>3</th>\n",
       "      <td>41.629575</td>\n",
       "      <td>-0.882526</td>\n",
       "    </tr>\n",
       "    <tr>\n",
       "      <th>4</th>\n",
       "      <td>41.656212</td>\n",
       "      <td>-0.908315</td>\n",
       "    </tr>\n",
       "    <tr>\n",
       "      <th>...</th>\n",
       "      <td>...</td>\n",
       "      <td>...</td>\n",
       "    </tr>\n",
       "    <tr>\n",
       "      <th>95</th>\n",
       "      <td>41.639770</td>\n",
       "      <td>-0.899066</td>\n",
       "    </tr>\n",
       "    <tr>\n",
       "      <th>96</th>\n",
       "      <td>41.670911</td>\n",
       "      <td>-0.907276</td>\n",
       "    </tr>\n",
       "    <tr>\n",
       "      <th>97</th>\n",
       "      <td>41.627571</td>\n",
       "      <td>-0.922602</td>\n",
       "    </tr>\n",
       "    <tr>\n",
       "      <th>98</th>\n",
       "      <td>41.655072</td>\n",
       "      <td>-0.873523</td>\n",
       "    </tr>\n",
       "    <tr>\n",
       "      <th>99</th>\n",
       "      <td>41.650230</td>\n",
       "      <td>-0.886950</td>\n",
       "    </tr>\n",
       "  </tbody>\n",
       "</table>\n",
       "<p>100 rows × 2 columns</p>\n",
       "</div>"
      ],
      "text/plain": [
       "         long       lat\n",
       "0   41.649027 -0.881853\n",
       "1   41.661586 -0.864581\n",
       "2   41.666993 -0.887776\n",
       "3   41.629575 -0.882526\n",
       "4   41.656212 -0.908315\n",
       "..        ...       ...\n",
       "95  41.639770 -0.899066\n",
       "96  41.670911 -0.907276\n",
       "97  41.627571 -0.922602\n",
       "98  41.655072 -0.873523\n",
       "99  41.650230 -0.886950\n",
       "\n",
       "[100 rows x 2 columns]"
      ]
     },
     "execution_count": 65,
     "metadata": {},
     "output_type": "execute_result"
    }
   ],
   "source": [
    "df_coord = pd.DataFrame({'long':longitudes,'lat':latitudes})\n",
    "df_coord"
   ]
  },
  {
   "cell_type": "markdown",
   "id": "916fcdfc",
   "metadata": {},
   "source": [
    "Con la función concat, concatenaremos la columna type con la anterior tabla"
   ]
  },
  {
   "cell_type": "code",
   "execution_count": 66,
   "id": "a1baea7e",
   "metadata": {},
   "outputs": [
    {
     "data": {
      "text/html": [
       "<div>\n",
       "<style scoped>\n",
       "    .dataframe tbody tr th:only-of-type {\n",
       "        vertical-align: middle;\n",
       "    }\n",
       "\n",
       "    .dataframe tbody tr th {\n",
       "        vertical-align: top;\n",
       "    }\n",
       "\n",
       "    .dataframe thead th {\n",
       "        text-align: right;\n",
       "    }\n",
       "</style>\n",
       "<table border=\"1\" class=\"dataframe\">\n",
       "  <thead>\n",
       "    <tr style=\"text-align: right;\">\n",
       "      <th></th>\n",
       "      <th>type</th>\n",
       "      <th>long</th>\n",
       "      <th>lat</th>\n",
       "    </tr>\n",
       "  </thead>\n",
       "  <tbody>\n",
       "    <tr>\n",
       "      <th>0</th>\n",
       "      <td>SALIDA CALZADA</td>\n",
       "      <td>41.649027</td>\n",
       "      <td>-0.881853</td>\n",
       "    </tr>\n",
       "    <tr>\n",
       "      <th>1</th>\n",
       "      <td>COLISIÓN ALCANCE</td>\n",
       "      <td>41.661586</td>\n",
       "      <td>-0.864581</td>\n",
       "    </tr>\n",
       "    <tr>\n",
       "      <th>2</th>\n",
       "      <td>COLISIÓN ALCANCE</td>\n",
       "      <td>41.666993</td>\n",
       "      <td>-0.887776</td>\n",
       "    </tr>\n",
       "    <tr>\n",
       "      <th>3</th>\n",
       "      <td>COLIS FRONTOLATERAL</td>\n",
       "      <td>41.629575</td>\n",
       "      <td>-0.882526</td>\n",
       "    </tr>\n",
       "    <tr>\n",
       "      <th>4</th>\n",
       "      <td>SALIDA CALZADA</td>\n",
       "      <td>41.656212</td>\n",
       "      <td>-0.908315</td>\n",
       "    </tr>\n",
       "    <tr>\n",
       "      <th>...</th>\n",
       "      <td>...</td>\n",
       "      <td>...</td>\n",
       "      <td>...</td>\n",
       "    </tr>\n",
       "    <tr>\n",
       "      <th>95</th>\n",
       "      <td>OTRAS</td>\n",
       "      <td>41.639770</td>\n",
       "      <td>-0.899066</td>\n",
       "    </tr>\n",
       "    <tr>\n",
       "      <th>96</th>\n",
       "      <td>COLISIÓN ALCANCE</td>\n",
       "      <td>41.670911</td>\n",
       "      <td>-0.907276</td>\n",
       "    </tr>\n",
       "    <tr>\n",
       "      <th>97</th>\n",
       "      <td>SALIDA CALZADA</td>\n",
       "      <td>41.627571</td>\n",
       "      <td>-0.922602</td>\n",
       "    </tr>\n",
       "    <tr>\n",
       "      <th>98</th>\n",
       "      <td>COLIS FRONTOLATERAL</td>\n",
       "      <td>41.655072</td>\n",
       "      <td>-0.873523</td>\n",
       "    </tr>\n",
       "    <tr>\n",
       "      <th>99</th>\n",
       "      <td>SALIDA CALZADA</td>\n",
       "      <td>41.650230</td>\n",
       "      <td>-0.886950</td>\n",
       "    </tr>\n",
       "  </tbody>\n",
       "</table>\n",
       "<p>100 rows × 3 columns</p>\n",
       "</div>"
      ],
      "text/plain": [
       "                   type       long       lat\n",
       "0        SALIDA CALZADA  41.649027 -0.881853\n",
       "1      COLISIÓN ALCANCE  41.661586 -0.864581\n",
       "2      COLISIÓN ALCANCE  41.666993 -0.887776\n",
       "3   COLIS FRONTOLATERAL  41.629575 -0.882526\n",
       "4        SALIDA CALZADA  41.656212 -0.908315\n",
       "..                  ...        ...       ...\n",
       "95                OTRAS  41.639770 -0.899066\n",
       "96     COLISIÓN ALCANCE  41.670911 -0.907276\n",
       "97       SALIDA CALZADA  41.627571 -0.922602\n",
       "98  COLIS FRONTOLATERAL  41.655072 -0.873523\n",
       "99       SALIDA CALZADA  41.650230 -0.886950\n",
       "\n",
       "[100 rows x 3 columns]"
      ]
     },
     "execution_count": 66,
     "metadata": {},
     "output_type": "execute_result"
    }
   ],
   "source": [
    "df_accidentes = pd.concat([df['type'],df_coord],axis=1) \n",
    "df_accidentes"
   ]
  },
  {
   "cell_type": "markdown",
   "id": "a7f847c1",
   "metadata": {},
   "source": [
    "Ahora crearemos un mapa con un marcador. Utilizaremos la función marker, de folium. Llevará las coordenadas de Zaragoza y la información que queremos que se vea cuando hagamos click en el marcador. "
   ]
  },
  {
   "cell_type": "code",
   "execution_count": 67,
   "id": "0a2bc4dd",
   "metadata": {},
   "outputs": [
    {
     "data": {
      "text/html": [
       "<div style=\"width:100%;\"><div style=\"position:relative;width:100%;height:0;padding-bottom:60%;\"><span style=\"color:#565656\">Make this Notebook Trusted to load map: File -> Trust Notebook</span><iframe src=\"about:blank\" style=\"position:absolute;width:100%;height:100%;left:0;top:0;border:none !important;\" data-html=%3C%21DOCTYPE%20html%3E%0A%3Chead%3E%20%20%20%20%0A%20%20%20%20%3Cmeta%20http-equiv%3D%22content-type%22%20content%3D%22text/html%3B%20charset%3DUTF-8%22%20/%3E%0A%20%20%20%20%0A%20%20%20%20%20%20%20%20%3Cscript%3E%0A%20%20%20%20%20%20%20%20%20%20%20%20L_NO_TOUCH%20%3D%20false%3B%0A%20%20%20%20%20%20%20%20%20%20%20%20L_DISABLE_3D%20%3D%20false%3B%0A%20%20%20%20%20%20%20%20%3C/script%3E%0A%20%20%20%20%0A%20%20%20%20%3Cstyle%3Ehtml%2C%20body%20%7Bwidth%3A%20100%25%3Bheight%3A%20100%25%3Bmargin%3A%200%3Bpadding%3A%200%3B%7D%3C/style%3E%0A%20%20%20%20%3Cstyle%3E%23map%20%7Bposition%3Aabsolute%3Btop%3A0%3Bbottom%3A0%3Bright%3A0%3Bleft%3A0%3B%7D%3C/style%3E%0A%20%20%20%20%3Cscript%20src%3D%22https%3A//cdn.jsdelivr.net/npm/leaflet%401.6.0/dist/leaflet.js%22%3E%3C/script%3E%0A%20%20%20%20%3Cscript%20src%3D%22https%3A//code.jquery.com/jquery-1.12.4.min.js%22%3E%3C/script%3E%0A%20%20%20%20%3Cscript%20src%3D%22https%3A//maxcdn.bootstrapcdn.com/bootstrap/3.2.0/js/bootstrap.min.js%22%3E%3C/script%3E%0A%20%20%20%20%3Cscript%20src%3D%22https%3A//cdnjs.cloudflare.com/ajax/libs/Leaflet.awesome-markers/2.0.2/leaflet.awesome-markers.js%22%3E%3C/script%3E%0A%20%20%20%20%3Clink%20rel%3D%22stylesheet%22%20href%3D%22https%3A//cdn.jsdelivr.net/npm/leaflet%401.6.0/dist/leaflet.css%22/%3E%0A%20%20%20%20%3Clink%20rel%3D%22stylesheet%22%20href%3D%22https%3A//maxcdn.bootstrapcdn.com/bootstrap/3.2.0/css/bootstrap.min.css%22/%3E%0A%20%20%20%20%3Clink%20rel%3D%22stylesheet%22%20href%3D%22https%3A//maxcdn.bootstrapcdn.com/bootstrap/3.2.0/css/bootstrap-theme.min.css%22/%3E%0A%20%20%20%20%3Clink%20rel%3D%22stylesheet%22%20href%3D%22https%3A//maxcdn.bootstrapcdn.com/font-awesome/4.6.3/css/font-awesome.min.css%22/%3E%0A%20%20%20%20%3Clink%20rel%3D%22stylesheet%22%20href%3D%22https%3A//cdnjs.cloudflare.com/ajax/libs/Leaflet.awesome-markers/2.0.2/leaflet.awesome-markers.css%22/%3E%0A%20%20%20%20%3Clink%20rel%3D%22stylesheet%22%20href%3D%22https%3A//cdn.jsdelivr.net/gh/python-visualization/folium/folium/templates/leaflet.awesome.rotate.min.css%22/%3E%0A%20%20%20%20%0A%20%20%20%20%20%20%20%20%20%20%20%20%3Cmeta%20name%3D%22viewport%22%20content%3D%22width%3Ddevice-width%2C%0A%20%20%20%20%20%20%20%20%20%20%20%20%20%20%20%20initial-scale%3D1.0%2C%20maximum-scale%3D1.0%2C%20user-scalable%3Dno%22%20/%3E%0A%20%20%20%20%20%20%20%20%20%20%20%20%3Cstyle%3E%0A%20%20%20%20%20%20%20%20%20%20%20%20%20%20%20%20%23map_a1020f0e5935425f9d7a557e4cf1147a%20%7B%0A%20%20%20%20%20%20%20%20%20%20%20%20%20%20%20%20%20%20%20%20position%3A%20relative%3B%0A%20%20%20%20%20%20%20%20%20%20%20%20%20%20%20%20%20%20%20%20width%3A%20100.0%25%3B%0A%20%20%20%20%20%20%20%20%20%20%20%20%20%20%20%20%20%20%20%20height%3A%20100.0%25%3B%0A%20%20%20%20%20%20%20%20%20%20%20%20%20%20%20%20%20%20%20%20left%3A%200.0%25%3B%0A%20%20%20%20%20%20%20%20%20%20%20%20%20%20%20%20%20%20%20%20top%3A%200.0%25%3B%0A%20%20%20%20%20%20%20%20%20%20%20%20%20%20%20%20%7D%0A%20%20%20%20%20%20%20%20%20%20%20%20%3C/style%3E%0A%20%20%20%20%20%20%20%20%0A%3C/head%3E%0A%3Cbody%3E%20%20%20%20%0A%20%20%20%20%0A%20%20%20%20%20%20%20%20%20%20%20%20%3Cdiv%20class%3D%22folium-map%22%20id%3D%22map_a1020f0e5935425f9d7a557e4cf1147a%22%20%3E%3C/div%3E%0A%20%20%20%20%20%20%20%20%0A%3C/body%3E%0A%3Cscript%3E%20%20%20%20%0A%20%20%20%20%0A%20%20%20%20%20%20%20%20%20%20%20%20var%20map_a1020f0e5935425f9d7a557e4cf1147a%20%3D%20L.map%28%0A%20%20%20%20%20%20%20%20%20%20%20%20%20%20%20%20%22map_a1020f0e5935425f9d7a557e4cf1147a%22%2C%0A%20%20%20%20%20%20%20%20%20%20%20%20%20%20%20%20%7B%0A%20%20%20%20%20%20%20%20%20%20%20%20%20%20%20%20%20%20%20%20center%3A%20%5B41.649693%2C%20-0.887712%5D%2C%0A%20%20%20%20%20%20%20%20%20%20%20%20%20%20%20%20%20%20%20%20crs%3A%20L.CRS.EPSG3857%2C%0A%20%20%20%20%20%20%20%20%20%20%20%20%20%20%20%20%20%20%20%20zoom%3A%2010%2C%0A%20%20%20%20%20%20%20%20%20%20%20%20%20%20%20%20%20%20%20%20zoomControl%3A%20true%2C%0A%20%20%20%20%20%20%20%20%20%20%20%20%20%20%20%20%20%20%20%20preferCanvas%3A%20false%2C%0A%20%20%20%20%20%20%20%20%20%20%20%20%20%20%20%20%7D%0A%20%20%20%20%20%20%20%20%20%20%20%20%29%3B%0A%0A%20%20%20%20%20%20%20%20%20%20%20%20%0A%0A%20%20%20%20%20%20%20%20%0A%20%20%20%20%0A%20%20%20%20%20%20%20%20%20%20%20%20var%20tile_layer_e7b550414ec54ceb9a57bb2c56809579%20%3D%20L.tileLayer%28%0A%20%20%20%20%20%20%20%20%20%20%20%20%20%20%20%20%22https%3A//%7Bs%7D.tile.openstreetmap.org/%7Bz%7D/%7Bx%7D/%7By%7D.png%22%2C%0A%20%20%20%20%20%20%20%20%20%20%20%20%20%20%20%20%7B%22attribution%22%3A%20%22Data%20by%20%5Cu0026copy%3B%20%5Cu003ca%20href%3D%5C%22http%3A//openstreetmap.org%5C%22%5Cu003eOpenStreetMap%5Cu003c/a%5Cu003e%2C%20under%20%5Cu003ca%20href%3D%5C%22http%3A//www.openstreetmap.org/copyright%5C%22%5Cu003eODbL%5Cu003c/a%5Cu003e.%22%2C%20%22detectRetina%22%3A%20false%2C%20%22maxNativeZoom%22%3A%2018%2C%20%22maxZoom%22%3A%2018%2C%20%22minZoom%22%3A%200%2C%20%22noWrap%22%3A%20false%2C%20%22opacity%22%3A%201%2C%20%22subdomains%22%3A%20%22abc%22%2C%20%22tms%22%3A%20false%7D%0A%20%20%20%20%20%20%20%20%20%20%20%20%29.addTo%28map_a1020f0e5935425f9d7a557e4cf1147a%29%3B%0A%20%20%20%20%20%20%20%20%0A%20%20%20%20%0A%20%20%20%20%20%20%20%20%20%20%20%20var%20marker_72c03b4b585d4d179b80737f8322a835%20%3D%20L.marker%28%0A%20%20%20%20%20%20%20%20%20%20%20%20%20%20%20%20%5B41.649693%2C%20-0.887712%5D%2C%0A%20%20%20%20%20%20%20%20%20%20%20%20%20%20%20%20%7B%7D%0A%20%20%20%20%20%20%20%20%20%20%20%20%29.addTo%28map_a1020f0e5935425f9d7a557e4cf1147a%29%3B%0A%20%20%20%20%20%20%20%20%0A%20%20%20%20%0A%20%20%20%20%20%20%20%20var%20popup_9159d7e41f424b9a85cc2ceb7568cb69%20%3D%20L.popup%28%7B%22maxWidth%22%3A%20%22100%25%22%7D%29%3B%0A%0A%20%20%20%20%20%20%20%20%0A%20%20%20%20%20%20%20%20%20%20%20%20var%20html_9770ec6a9e6f484d9f6cdce89b387b2e%20%3D%20%24%28%60%3Cdiv%20id%3D%22html_9770ec6a9e6f484d9f6cdce89b387b2e%22%20style%3D%22width%3A%20100.0%25%3B%20height%3A%20100.0%25%3B%22%3E%C2%A1Hola%2C%20Zaragoza%21%3C/div%3E%60%29%5B0%5D%3B%0A%20%20%20%20%20%20%20%20%20%20%20%20popup_9159d7e41f424b9a85cc2ceb7568cb69.setContent%28html_9770ec6a9e6f484d9f6cdce89b387b2e%29%3B%0A%20%20%20%20%20%20%20%20%0A%0A%20%20%20%20%20%20%20%20marker_72c03b4b585d4d179b80737f8322a835.bindPopup%28popup_9159d7e41f424b9a85cc2ceb7568cb69%29%0A%20%20%20%20%20%20%20%20%3B%0A%0A%20%20%20%20%20%20%20%20%0A%20%20%20%20%0A%3C/script%3E onload=\"this.contentDocument.open();this.contentDocument.write(    decodeURIComponent(this.getAttribute('data-html')));this.contentDocument.close();\" allowfullscreen webkitallowfullscreen mozallowfullscreen></iframe></div></div>"
      ],
      "text/plain": [
       "<folium.folium.Map at 0x22e1e5ca070>"
      ]
     },
     "execution_count": 67,
     "metadata": {},
     "output_type": "execute_result"
    }
   ],
   "source": [
    "marcador = folium.Marker(coords_zrgz, popup=\"¡Hola, Zaragoza!\")\n",
    "mapa = mapa.add_child(marcador)\n",
    "mapa"
   ]
  },
  {
   "cell_type": "markdown",
   "id": "bb0209a5",
   "metadata": {},
   "source": [
    "Con el siguiente bucle crearemos un mapa con cada uno de los puntos de nuestra tabla. Importamos los datos de la url, marcamos las coordenadas y le pedimos que nos muestre los datos que nos interesa. "
   ]
  },
  {
   "cell_type": "code",
   "execution_count": 68,
   "id": "e3c56639",
   "metadata": {},
   "outputs": [
    {
     "data": {
      "text/html": [
       "<div style=\"width:100%;\"><div style=\"position:relative;width:100%;height:0;padding-bottom:60%;\"><span style=\"color:#565656\">Make this Notebook Trusted to load map: File -> Trust Notebook</span><iframe src=\"about:blank\" style=\"position:absolute;width:100%;height:100%;left:0;top:0;border:none !important;\" data-html=%3C%21DOCTYPE%20html%3E%0A%3Chead%3E%20%20%20%20%0A%20%20%20%20%3Cmeta%20http-equiv%3D%22content-type%22%20content%3D%22text/html%3B%20charset%3DUTF-8%22%20/%3E%0A%20%20%20%20%0A%20%20%20%20%20%20%20%20%3Cscript%3E%0A%20%20%20%20%20%20%20%20%20%20%20%20L_NO_TOUCH%20%3D%20false%3B%0A%20%20%20%20%20%20%20%20%20%20%20%20L_DISABLE_3D%20%3D%20false%3B%0A%20%20%20%20%20%20%20%20%3C/script%3E%0A%20%20%20%20%0A%20%20%20%20%3Cstyle%3Ehtml%2C%20body%20%7Bwidth%3A%20100%25%3Bheight%3A%20100%25%3Bmargin%3A%200%3Bpadding%3A%200%3B%7D%3C/style%3E%0A%20%20%20%20%3Cstyle%3E%23map%20%7Bposition%3Aabsolute%3Btop%3A0%3Bbottom%3A0%3Bright%3A0%3Bleft%3A0%3B%7D%3C/style%3E%0A%20%20%20%20%3Cscript%20src%3D%22https%3A//cdn.jsdelivr.net/npm/leaflet%401.6.0/dist/leaflet.js%22%3E%3C/script%3E%0A%20%20%20%20%3Cscript%20src%3D%22https%3A//code.jquery.com/jquery-1.12.4.min.js%22%3E%3C/script%3E%0A%20%20%20%20%3Cscript%20src%3D%22https%3A//maxcdn.bootstrapcdn.com/bootstrap/3.2.0/js/bootstrap.min.js%22%3E%3C/script%3E%0A%20%20%20%20%3Cscript%20src%3D%22https%3A//cdnjs.cloudflare.com/ajax/libs/Leaflet.awesome-markers/2.0.2/leaflet.awesome-markers.js%22%3E%3C/script%3E%0A%20%20%20%20%3Clink%20rel%3D%22stylesheet%22%20href%3D%22https%3A//cdn.jsdelivr.net/npm/leaflet%401.6.0/dist/leaflet.css%22/%3E%0A%20%20%20%20%3Clink%20rel%3D%22stylesheet%22%20href%3D%22https%3A//maxcdn.bootstrapcdn.com/bootstrap/3.2.0/css/bootstrap.min.css%22/%3E%0A%20%20%20%20%3Clink%20rel%3D%22stylesheet%22%20href%3D%22https%3A//maxcdn.bootstrapcdn.com/bootstrap/3.2.0/css/bootstrap-theme.min.css%22/%3E%0A%20%20%20%20%3Clink%20rel%3D%22stylesheet%22%20href%3D%22https%3A//maxcdn.bootstrapcdn.com/font-awesome/4.6.3/css/font-awesome.min.css%22/%3E%0A%20%20%20%20%3Clink%20rel%3D%22stylesheet%22%20href%3D%22https%3A//cdnjs.cloudflare.com/ajax/libs/Leaflet.awesome-markers/2.0.2/leaflet.awesome-markers.css%22/%3E%0A%20%20%20%20%3Clink%20rel%3D%22stylesheet%22%20href%3D%22https%3A//cdn.jsdelivr.net/gh/python-visualization/folium/folium/templates/leaflet.awesome.rotate.min.css%22/%3E%0A%20%20%20%20%0A%20%20%20%20%20%20%20%20%20%20%20%20%3Cmeta%20name%3D%22viewport%22%20content%3D%22width%3Ddevice-width%2C%0A%20%20%20%20%20%20%20%20%20%20%20%20%20%20%20%20initial-scale%3D1.0%2C%20maximum-scale%3D1.0%2C%20user-scalable%3Dno%22%20/%3E%0A%20%20%20%20%20%20%20%20%20%20%20%20%3Cstyle%3E%0A%20%20%20%20%20%20%20%20%20%20%20%20%20%20%20%20%23map_96612fdd4b174c22b677585d57f26fed%20%7B%0A%20%20%20%20%20%20%20%20%20%20%20%20%20%20%20%20%20%20%20%20position%3A%20relative%3B%0A%20%20%20%20%20%20%20%20%20%20%20%20%20%20%20%20%20%20%20%20width%3A%20100.0%25%3B%0A%20%20%20%20%20%20%20%20%20%20%20%20%20%20%20%20%20%20%20%20height%3A%20100.0%25%3B%0A%20%20%20%20%20%20%20%20%20%20%20%20%20%20%20%20%20%20%20%20left%3A%200.0%25%3B%0A%20%20%20%20%20%20%20%20%20%20%20%20%20%20%20%20%20%20%20%20top%3A%200.0%25%3B%0A%20%20%20%20%20%20%20%20%20%20%20%20%20%20%20%20%7D%0A%20%20%20%20%20%20%20%20%20%20%20%20%3C/style%3E%0A%20%20%20%20%20%20%20%20%0A%3C/head%3E%0A%3Cbody%3E%20%20%20%20%0A%20%20%20%20%0A%20%20%20%20%20%20%20%20%20%20%20%20%3Cdiv%20class%3D%22folium-map%22%20id%3D%22map_96612fdd4b174c22b677585d57f26fed%22%20%3E%3C/div%3E%0A%20%20%20%20%20%20%20%20%0A%3C/body%3E%0A%3Cscript%3E%20%20%20%20%0A%20%20%20%20%0A%20%20%20%20%20%20%20%20%20%20%20%20var%20map_96612fdd4b174c22b677585d57f26fed%20%3D%20L.map%28%0A%20%20%20%20%20%20%20%20%20%20%20%20%20%20%20%20%22map_96612fdd4b174c22b677585d57f26fed%22%2C%0A%20%20%20%20%20%20%20%20%20%20%20%20%20%20%20%20%7B%0A%20%20%20%20%20%20%20%20%20%20%20%20%20%20%20%20%20%20%20%20center%3A%20%5B41.64%2C%20-0.88%5D%2C%0A%20%20%20%20%20%20%20%20%20%20%20%20%20%20%20%20%20%20%20%20crs%3A%20L.CRS.EPSG3857%2C%0A%20%20%20%20%20%20%20%20%20%20%20%20%20%20%20%20%20%20%20%20zoom%3A%2010%2C%0A%20%20%20%20%20%20%20%20%20%20%20%20%20%20%20%20%20%20%20%20zoomControl%3A%20true%2C%0A%20%20%20%20%20%20%20%20%20%20%20%20%20%20%20%20%20%20%20%20preferCanvas%3A%20false%2C%0A%20%20%20%20%20%20%20%20%20%20%20%20%20%20%20%20%7D%0A%20%20%20%20%20%20%20%20%20%20%20%20%29%3B%0A%0A%20%20%20%20%20%20%20%20%20%20%20%20%0A%0A%20%20%20%20%20%20%20%20%0A%20%20%20%20%0A%20%20%20%20%20%20%20%20%20%20%20%20var%20tile_layer_7fbbccc788ca4884af8347315c791f53%20%3D%20L.tileLayer%28%0A%20%20%20%20%20%20%20%20%20%20%20%20%20%20%20%20%22https%3A//%7Bs%7D.tile.openstreetmap.org/%7Bz%7D/%7Bx%7D/%7By%7D.png%22%2C%0A%20%20%20%20%20%20%20%20%20%20%20%20%20%20%20%20%7B%22attribution%22%3A%20%22Data%20by%20%5Cu0026copy%3B%20%5Cu003ca%20href%3D%5C%22http%3A//openstreetmap.org%5C%22%5Cu003eOpenStreetMap%5Cu003c/a%5Cu003e%2C%20under%20%5Cu003ca%20href%3D%5C%22http%3A//www.openstreetmap.org/copyright%5C%22%5Cu003eODbL%5Cu003c/a%5Cu003e.%22%2C%20%22detectRetina%22%3A%20false%2C%20%22maxNativeZoom%22%3A%2018%2C%20%22maxZoom%22%3A%2018%2C%20%22minZoom%22%3A%200%2C%20%22noWrap%22%3A%20false%2C%20%22opacity%22%3A%201%2C%20%22subdomains%22%3A%20%22abc%22%2C%20%22tms%22%3A%20false%7D%0A%20%20%20%20%20%20%20%20%20%20%20%20%29.addTo%28map_96612fdd4b174c22b677585d57f26fed%29%3B%0A%20%20%20%20%20%20%20%20%0A%20%20%20%20%0A%20%20%20%20%20%20%20%20%20%20%20%20var%20marker_16bb4c1db0544f4e9319755227200296%20%3D%20L.marker%28%0A%20%20%20%20%20%20%20%20%20%20%20%20%20%20%20%20%5B41.649027473051156%2C%20-0.8818527060979306%5D%2C%0A%20%20%20%20%20%20%20%20%20%20%20%20%20%20%20%20%7B%7D%0A%20%20%20%20%20%20%20%20%20%20%20%20%29.addTo%28map_96612fdd4b174c22b677585d57f26fed%29%3B%0A%20%20%20%20%20%20%20%20%0A%20%20%20%20%0A%20%20%20%20%20%20%20%20var%20popup_e9f82b2d0acd4bfab7961eb89eed5aa6%20%3D%20L.popup%28%7B%22maxWidth%22%3A%20%22100%25%22%7D%29%3B%0A%0A%20%20%20%20%20%20%20%20%0A%20%20%20%20%20%20%20%20%20%20%20%20var%20html_28883a1f945c44469a9f35c57025de7d%20%3D%20%24%28%60%3Cdiv%20id%3D%22html_28883a1f945c44469a9f35c57025de7d%22%20style%3D%22width%3A%20100.0%25%3B%20height%3A%20100.0%25%3B%22%3ESALIDA%20CALZADA%3C/div%3E%60%29%5B0%5D%3B%0A%20%20%20%20%20%20%20%20%20%20%20%20popup_e9f82b2d0acd4bfab7961eb89eed5aa6.setContent%28html_28883a1f945c44469a9f35c57025de7d%29%3B%0A%20%20%20%20%20%20%20%20%0A%0A%20%20%20%20%20%20%20%20marker_16bb4c1db0544f4e9319755227200296.bindPopup%28popup_e9f82b2d0acd4bfab7961eb89eed5aa6%29%0A%20%20%20%20%20%20%20%20%3B%0A%0A%20%20%20%20%20%20%20%20%0A%20%20%20%20%0A%20%20%20%20%0A%20%20%20%20%20%20%20%20%20%20%20%20var%20marker_b3410f2bb4a24e7dac32a3f36e136628%20%3D%20L.marker%28%0A%20%20%20%20%20%20%20%20%20%20%20%20%20%20%20%20%5B41.661585829868585%2C%20-0.8645810716721081%5D%2C%0A%20%20%20%20%20%20%20%20%20%20%20%20%20%20%20%20%7B%7D%0A%20%20%20%20%20%20%20%20%20%20%20%20%29.addTo%28map_96612fdd4b174c22b677585d57f26fed%29%3B%0A%20%20%20%20%20%20%20%20%0A%20%20%20%20%0A%20%20%20%20%20%20%20%20var%20popup_3408adc1fb2f4cf498d5bc4322d66584%20%3D%20L.popup%28%7B%22maxWidth%22%3A%20%22100%25%22%7D%29%3B%0A%0A%20%20%20%20%20%20%20%20%0A%20%20%20%20%20%20%20%20%20%20%20%20var%20html_87435ed788014793bd97571a3ba81701%20%3D%20%24%28%60%3Cdiv%20id%3D%22html_87435ed788014793bd97571a3ba81701%22%20style%3D%22width%3A%20100.0%25%3B%20height%3A%20100.0%25%3B%22%3ECOLISI%C3%93N%20ALCANCE%3C/div%3E%60%29%5B0%5D%3B%0A%20%20%20%20%20%20%20%20%20%20%20%20popup_3408adc1fb2f4cf498d5bc4322d66584.setContent%28html_87435ed788014793bd97571a3ba81701%29%3B%0A%20%20%20%20%20%20%20%20%0A%0A%20%20%20%20%20%20%20%20marker_b3410f2bb4a24e7dac32a3f36e136628.bindPopup%28popup_3408adc1fb2f4cf498d5bc4322d66584%29%0A%20%20%20%20%20%20%20%20%3B%0A%0A%20%20%20%20%20%20%20%20%0A%20%20%20%20%0A%20%20%20%20%0A%20%20%20%20%20%20%20%20%20%20%20%20var%20marker_bdb7215d2b62444796d519dde2e4af3f%20%3D%20L.marker%28%0A%20%20%20%20%20%20%20%20%20%20%20%20%20%20%20%20%5B41.666992622958105%2C%20-0.887776415002892%5D%2C%0A%20%20%20%20%20%20%20%20%20%20%20%20%20%20%20%20%7B%7D%0A%20%20%20%20%20%20%20%20%20%20%20%20%29.addTo%28map_96612fdd4b174c22b677585d57f26fed%29%3B%0A%20%20%20%20%20%20%20%20%0A%20%20%20%20%0A%20%20%20%20%20%20%20%20var%20popup_b3b790a07d6045a0a3d2668e5c2e8652%20%3D%20L.popup%28%7B%22maxWidth%22%3A%20%22100%25%22%7D%29%3B%0A%0A%20%20%20%20%20%20%20%20%0A%20%20%20%20%20%20%20%20%20%20%20%20var%20html_0ade015c7f844a2998c9db79a7e519f5%20%3D%20%24%28%60%3Cdiv%20id%3D%22html_0ade015c7f844a2998c9db79a7e519f5%22%20style%3D%22width%3A%20100.0%25%3B%20height%3A%20100.0%25%3B%22%3ECOLISI%C3%93N%20ALCANCE%3C/div%3E%60%29%5B0%5D%3B%0A%20%20%20%20%20%20%20%20%20%20%20%20popup_b3b790a07d6045a0a3d2668e5c2e8652.setContent%28html_0ade015c7f844a2998c9db79a7e519f5%29%3B%0A%20%20%20%20%20%20%20%20%0A%0A%20%20%20%20%20%20%20%20marker_bdb7215d2b62444796d519dde2e4af3f.bindPopup%28popup_b3b790a07d6045a0a3d2668e5c2e8652%29%0A%20%20%20%20%20%20%20%20%3B%0A%0A%20%20%20%20%20%20%20%20%0A%20%20%20%20%0A%20%20%20%20%0A%20%20%20%20%20%20%20%20%20%20%20%20var%20marker_7b784add3ae24859846d9d7cb36aad8e%20%3D%20L.marker%28%0A%20%20%20%20%20%20%20%20%20%20%20%20%20%20%20%20%5B41.62957498750602%2C%20-0.8825260453930127%5D%2C%0A%20%20%20%20%20%20%20%20%20%20%20%20%20%20%20%20%7B%7D%0A%20%20%20%20%20%20%20%20%20%20%20%20%29.addTo%28map_96612fdd4b174c22b677585d57f26fed%29%3B%0A%20%20%20%20%20%20%20%20%0A%20%20%20%20%0A%20%20%20%20%20%20%20%20var%20popup_a30cae273319446a9512bf324017b815%20%3D%20L.popup%28%7B%22maxWidth%22%3A%20%22100%25%22%7D%29%3B%0A%0A%20%20%20%20%20%20%20%20%0A%20%20%20%20%20%20%20%20%20%20%20%20var%20html_5542318da16c4cc59f4336b34d1cffd2%20%3D%20%24%28%60%3Cdiv%20id%3D%22html_5542318da16c4cc59f4336b34d1cffd2%22%20style%3D%22width%3A%20100.0%25%3B%20height%3A%20100.0%25%3B%22%3ECOLIS%20FRONTOLATERAL%3C/div%3E%60%29%5B0%5D%3B%0A%20%20%20%20%20%20%20%20%20%20%20%20popup_a30cae273319446a9512bf324017b815.setContent%28html_5542318da16c4cc59f4336b34d1cffd2%29%3B%0A%20%20%20%20%20%20%20%20%0A%0A%20%20%20%20%20%20%20%20marker_7b784add3ae24859846d9d7cb36aad8e.bindPopup%28popup_a30cae273319446a9512bf324017b815%29%0A%20%20%20%20%20%20%20%20%3B%0A%0A%20%20%20%20%20%20%20%20%0A%20%20%20%20%0A%20%20%20%20%0A%20%20%20%20%20%20%20%20%20%20%20%20var%20marker_8322c58a428842d78e189079dc2fd980%20%3D%20L.marker%28%0A%20%20%20%20%20%20%20%20%20%20%20%20%20%20%20%20%5B41.6562121210704%2C%20-0.908314757720389%5D%2C%0A%20%20%20%20%20%20%20%20%20%20%20%20%20%20%20%20%7B%7D%0A%20%20%20%20%20%20%20%20%20%20%20%20%29.addTo%28map_96612fdd4b174c22b677585d57f26fed%29%3B%0A%20%20%20%20%20%20%20%20%0A%20%20%20%20%0A%20%20%20%20%20%20%20%20var%20popup_1d871b4ed7ba44f4989b5d9a548929d5%20%3D%20L.popup%28%7B%22maxWidth%22%3A%20%22100%25%22%7D%29%3B%0A%0A%20%20%20%20%20%20%20%20%0A%20%20%20%20%20%20%20%20%20%20%20%20var%20html_d4dd588d55c442a08d90a759c3ffd452%20%3D%20%24%28%60%3Cdiv%20id%3D%22html_d4dd588d55c442a08d90a759c3ffd452%22%20style%3D%22width%3A%20100.0%25%3B%20height%3A%20100.0%25%3B%22%3ESALIDA%20CALZADA%3C/div%3E%60%29%5B0%5D%3B%0A%20%20%20%20%20%20%20%20%20%20%20%20popup_1d871b4ed7ba44f4989b5d9a548929d5.setContent%28html_d4dd588d55c442a08d90a759c3ffd452%29%3B%0A%20%20%20%20%20%20%20%20%0A%0A%20%20%20%20%20%20%20%20marker_8322c58a428842d78e189079dc2fd980.bindPopup%28popup_1d871b4ed7ba44f4989b5d9a548929d5%29%0A%20%20%20%20%20%20%20%20%3B%0A%0A%20%20%20%20%20%20%20%20%0A%20%20%20%20%0A%20%20%20%20%0A%20%20%20%20%20%20%20%20%20%20%20%20var%20marker_abf6475a880049b8945e5cdcc69ff79c%20%3D%20L.marker%28%0A%20%20%20%20%20%20%20%20%20%20%20%20%20%20%20%20%5B41.65949772773082%2C%20-0.8691088511672924%5D%2C%0A%20%20%20%20%20%20%20%20%20%20%20%20%20%20%20%20%7B%7D%0A%20%20%20%20%20%20%20%20%20%20%20%20%29.addTo%28map_96612fdd4b174c22b677585d57f26fed%29%3B%0A%20%20%20%20%20%20%20%20%0A%20%20%20%20%0A%20%20%20%20%20%20%20%20var%20popup_ad7372aab6e44901a5f9d584ed3ebe6f%20%3D%20L.popup%28%7B%22maxWidth%22%3A%20%22100%25%22%7D%29%3B%0A%0A%20%20%20%20%20%20%20%20%0A%20%20%20%20%20%20%20%20%20%20%20%20var%20html_609ef02f9a52456381fad744e53cd4b6%20%3D%20%24%28%60%3Cdiv%20id%3D%22html_609ef02f9a52456381fad744e53cd4b6%22%20style%3D%22width%3A%20100.0%25%3B%20height%3A%20100.0%25%3B%22%3EOTRAS%3C/div%3E%60%29%5B0%5D%3B%0A%20%20%20%20%20%20%20%20%20%20%20%20popup_ad7372aab6e44901a5f9d584ed3ebe6f.setContent%28html_609ef02f9a52456381fad744e53cd4b6%29%3B%0A%20%20%20%20%20%20%20%20%0A%0A%20%20%20%20%20%20%20%20marker_abf6475a880049b8945e5cdcc69ff79c.bindPopup%28popup_ad7372aab6e44901a5f9d584ed3ebe6f%29%0A%20%20%20%20%20%20%20%20%3B%0A%0A%20%20%20%20%20%20%20%20%0A%20%20%20%20%0A%20%20%20%20%0A%20%20%20%20%20%20%20%20%20%20%20%20var%20marker_c7a8852d659f42aba251f3672cd7fda7%20%3D%20L.marker%28%0A%20%20%20%20%20%20%20%20%20%20%20%20%20%20%20%20%5B41.633353667694024%2C%20-0.8880337913721866%5D%2C%0A%20%20%20%20%20%20%20%20%20%20%20%20%20%20%20%20%7B%7D%0A%20%20%20%20%20%20%20%20%20%20%20%20%29.addTo%28map_96612fdd4b174c22b677585d57f26fed%29%3B%0A%20%20%20%20%20%20%20%20%0A%20%20%20%20%0A%20%20%20%20%20%20%20%20var%20popup_ee44e53c7027458585dddfe04dac4ff5%20%3D%20L.popup%28%7B%22maxWidth%22%3A%20%22100%25%22%7D%29%3B%0A%0A%20%20%20%20%20%20%20%20%0A%20%20%20%20%20%20%20%20%20%20%20%20var%20html_fd966121ff65495eacc922909cb737e3%20%3D%20%24%28%60%3Cdiv%20id%3D%22html_fd966121ff65495eacc922909cb737e3%22%20style%3D%22width%3A%20100.0%25%3B%20height%3A%20100.0%25%3B%22%3EATROPELLO%3C/div%3E%60%29%5B0%5D%3B%0A%20%20%20%20%20%20%20%20%20%20%20%20popup_ee44e53c7027458585dddfe04dac4ff5.setContent%28html_fd966121ff65495eacc922909cb737e3%29%3B%0A%20%20%20%20%20%20%20%20%0A%0A%20%20%20%20%20%20%20%20marker_c7a8852d659f42aba251f3672cd7fda7.bindPopup%28popup_ee44e53c7027458585dddfe04dac4ff5%29%0A%20%20%20%20%20%20%20%20%3B%0A%0A%20%20%20%20%20%20%20%20%0A%20%20%20%20%0A%20%20%20%20%0A%20%20%20%20%20%20%20%20%20%20%20%20var%20marker_c04050ef6bb24a24b99bce8ffb8ac84d%20%3D%20L.marker%28%0A%20%20%20%20%20%20%20%20%20%20%20%20%20%20%20%20%5B41.6390382112928%2C%20-0.8708838775078237%5D%2C%0A%20%20%20%20%20%20%20%20%20%20%20%20%20%20%20%20%7B%7D%0A%20%20%20%20%20%20%20%20%20%20%20%20%29.addTo%28map_96612fdd4b174c22b677585d57f26fed%29%3B%0A%20%20%20%20%20%20%20%20%0A%20%20%20%20%0A%20%20%20%20%20%20%20%20var%20popup_8e54d791f9024e0cb2509c3f3599c9ec%20%3D%20L.popup%28%7B%22maxWidth%22%3A%20%22100%25%22%7D%29%3B%0A%0A%20%20%20%20%20%20%20%20%0A%20%20%20%20%20%20%20%20%20%20%20%20var%20html_47fdffb18ce344a78b7ab25a5840353e%20%3D%20%24%28%60%3Cdiv%20id%3D%22html_47fdffb18ce344a78b7ab25a5840353e%22%20style%3D%22width%3A%20100.0%25%3B%20height%3A%20100.0%25%3B%22%3ECAIDA%20SOBRE%20CALZADA%3C/div%3E%60%29%5B0%5D%3B%0A%20%20%20%20%20%20%20%20%20%20%20%20popup_8e54d791f9024e0cb2509c3f3599c9ec.setContent%28html_47fdffb18ce344a78b7ab25a5840353e%29%3B%0A%20%20%20%20%20%20%20%20%0A%0A%20%20%20%20%20%20%20%20marker_c04050ef6bb24a24b99bce8ffb8ac84d.bindPopup%28popup_8e54d791f9024e0cb2509c3f3599c9ec%29%0A%20%20%20%20%20%20%20%20%3B%0A%0A%20%20%20%20%20%20%20%20%0A%20%20%20%20%0A%20%20%20%20%0A%20%20%20%20%20%20%20%20%20%20%20%20var%20marker_630253893de34d11aece3630985ead8d%20%3D%20L.marker%28%0A%20%20%20%20%20%20%20%20%20%20%20%20%20%20%20%20%5B41.64083344974765%2C%20-0.8970649943808023%5D%2C%0A%20%20%20%20%20%20%20%20%20%20%20%20%20%20%20%20%7B%7D%0A%20%20%20%20%20%20%20%20%20%20%20%20%29.addTo%28map_96612fdd4b174c22b677585d57f26fed%29%3B%0A%20%20%20%20%20%20%20%20%0A%20%20%20%20%0A%20%20%20%20%20%20%20%20var%20popup_f94ad1c055bc4cf2986fe83ed14f0f0a%20%3D%20L.popup%28%7B%22maxWidth%22%3A%20%22100%25%22%7D%29%3B%0A%0A%20%20%20%20%20%20%20%20%0A%20%20%20%20%20%20%20%20%20%20%20%20var%20html_31f0931196a54646bd984f94c671a6a6%20%3D%20%24%28%60%3Cdiv%20id%3D%22html_31f0931196a54646bd984f94c671a6a6%22%20style%3D%22width%3A%20100.0%25%3B%20height%3A%20100.0%25%3B%22%3ECOLIS.%20MARCHA%20ATR%C3%81S%3C/div%3E%60%29%5B0%5D%3B%0A%20%20%20%20%20%20%20%20%20%20%20%20popup_f94ad1c055bc4cf2986fe83ed14f0f0a.setContent%28html_31f0931196a54646bd984f94c671a6a6%29%3B%0A%20%20%20%20%20%20%20%20%0A%0A%20%20%20%20%20%20%20%20marker_630253893de34d11aece3630985ead8d.bindPopup%28popup_f94ad1c055bc4cf2986fe83ed14f0f0a%29%0A%20%20%20%20%20%20%20%20%3B%0A%0A%20%20%20%20%20%20%20%20%0A%20%20%20%20%0A%20%20%20%20%0A%20%20%20%20%20%20%20%20%20%20%20%20var%20marker_fd77d0fb548946d9a885d546e88cdcd9%20%3D%20L.marker%28%0A%20%20%20%20%20%20%20%20%20%20%20%20%20%20%20%20%5B41.64904657717317%2C%20-0.8718525605769747%5D%2C%0A%20%20%20%20%20%20%20%20%20%20%20%20%20%20%20%20%7B%7D%0A%20%20%20%20%20%20%20%20%20%20%20%20%29.addTo%28map_96612fdd4b174c22b677585d57f26fed%29%3B%0A%20%20%20%20%20%20%20%20%0A%20%20%20%20%0A%20%20%20%20%20%20%20%20var%20popup_072d5e9406ed4077b50f353c606022db%20%3D%20L.popup%28%7B%22maxWidth%22%3A%20%22100%25%22%7D%29%3B%0A%0A%20%20%20%20%20%20%20%20%0A%20%20%20%20%20%20%20%20%20%20%20%20var%20html_8aa797a53e5b4d68a2b26f5a2ee97a9c%20%3D%20%24%28%60%3Cdiv%20id%3D%22html_8aa797a53e5b4d68a2b26f5a2ee97a9c%22%20style%3D%22width%3A%20100.0%25%3B%20height%3A%20100.0%25%3B%22%3ECOLISI%C3%93N%20LATERAL%3C/div%3E%60%29%5B0%5D%3B%0A%20%20%20%20%20%20%20%20%20%20%20%20popup_072d5e9406ed4077b50f353c606022db.setContent%28html_8aa797a53e5b4d68a2b26f5a2ee97a9c%29%3B%0A%20%20%20%20%20%20%20%20%0A%0A%20%20%20%20%20%20%20%20marker_fd77d0fb548946d9a885d546e88cdcd9.bindPopup%28popup_072d5e9406ed4077b50f353c606022db%29%0A%20%20%20%20%20%20%20%20%3B%0A%0A%20%20%20%20%20%20%20%20%0A%20%20%20%20%0A%20%20%20%20%0A%20%20%20%20%20%20%20%20%20%20%20%20var%20marker_76c4f8602d86434d97e9cc7fc13cdb52%20%3D%20L.marker%28%0A%20%20%20%20%20%20%20%20%20%20%20%20%20%20%20%20%5B41.64322365075108%2C%20-0.8964627561577849%5D%2C%0A%20%20%20%20%20%20%20%20%20%20%20%20%20%20%20%20%7B%7D%0A%20%20%20%20%20%20%20%20%20%20%20%20%29.addTo%28map_96612fdd4b174c22b677585d57f26fed%29%3B%0A%20%20%20%20%20%20%20%20%0A%20%20%20%20%0A%20%20%20%20%20%20%20%20var%20popup_d99036bb21ae4acebe165348e5443ce7%20%3D%20L.popup%28%7B%22maxWidth%22%3A%20%22100%25%22%7D%29%3B%0A%0A%20%20%20%20%20%20%20%20%0A%20%20%20%20%20%20%20%20%20%20%20%20var%20html_0f9f62d6bb2044088d4d8ac7ff7cce41%20%3D%20%24%28%60%3Cdiv%20id%3D%22html_0f9f62d6bb2044088d4d8ac7ff7cce41%22%20style%3D%22width%3A%20100.0%25%3B%20height%3A%20100.0%25%3B%22%3EOTRAS%3C/div%3E%60%29%5B0%5D%3B%0A%20%20%20%20%20%20%20%20%20%20%20%20popup_d99036bb21ae4acebe165348e5443ce7.setContent%28html_0f9f62d6bb2044088d4d8ac7ff7cce41%29%3B%0A%20%20%20%20%20%20%20%20%0A%0A%20%20%20%20%20%20%20%20marker_76c4f8602d86434d97e9cc7fc13cdb52.bindPopup%28popup_d99036bb21ae4acebe165348e5443ce7%29%0A%20%20%20%20%20%20%20%20%3B%0A%0A%20%20%20%20%20%20%20%20%0A%20%20%20%20%0A%20%20%20%20%0A%20%20%20%20%20%20%20%20%20%20%20%20var%20marker_6571a8f46d6640509539c00fbbee5bd9%20%3D%20L.marker%28%0A%20%20%20%20%20%20%20%20%20%20%20%20%20%20%20%20%5B41.68753087470739%2C%20-0.8778095796207178%5D%2C%0A%20%20%20%20%20%20%20%20%20%20%20%20%20%20%20%20%7B%7D%0A%20%20%20%20%20%20%20%20%20%20%20%20%29.addTo%28map_96612fdd4b174c22b677585d57f26fed%29%3B%0A%20%20%20%20%20%20%20%20%0A%20%20%20%20%0A%20%20%20%20%20%20%20%20var%20popup_80ff62fe161e43ed83d74b57f53b55fc%20%3D%20L.popup%28%7B%22maxWidth%22%3A%20%22100%25%22%7D%29%3B%0A%0A%20%20%20%20%20%20%20%20%0A%20%20%20%20%20%20%20%20%20%20%20%20var%20html_18808b70de43485aa6ba9181a948210b%20%3D%20%24%28%60%3Cdiv%20id%3D%22html_18808b70de43485aa6ba9181a948210b%22%20style%3D%22width%3A%20100.0%25%3B%20height%3A%20100.0%25%3B%22%3ECOLISI%C3%93N%20ALCANCE%3C/div%3E%60%29%5B0%5D%3B%0A%20%20%20%20%20%20%20%20%20%20%20%20popup_80ff62fe161e43ed83d74b57f53b55fc.setContent%28html_18808b70de43485aa6ba9181a948210b%29%3B%0A%20%20%20%20%20%20%20%20%0A%0A%20%20%20%20%20%20%20%20marker_6571a8f46d6640509539c00fbbee5bd9.bindPopup%28popup_80ff62fe161e43ed83d74b57f53b55fc%29%0A%20%20%20%20%20%20%20%20%3B%0A%0A%20%20%20%20%20%20%20%20%0A%20%20%20%20%0A%20%20%20%20%0A%20%20%20%20%20%20%20%20%20%20%20%20var%20marker_68c4f55c43b145709d085502bb467c39%20%3D%20L.marker%28%0A%20%20%20%20%20%20%20%20%20%20%20%20%20%20%20%20%5B41.661646612715046%2C%20-0.8812157329722801%5D%2C%0A%20%20%20%20%20%20%20%20%20%20%20%20%20%20%20%20%7B%7D%0A%20%20%20%20%20%20%20%20%20%20%20%20%29.addTo%28map_96612fdd4b174c22b677585d57f26fed%29%3B%0A%20%20%20%20%20%20%20%20%0A%20%20%20%20%0A%20%20%20%20%20%20%20%20var%20popup_c2549242d7004fe884ab14c88536f50e%20%3D%20L.popup%28%7B%22maxWidth%22%3A%20%22100%25%22%7D%29%3B%0A%0A%20%20%20%20%20%20%20%20%0A%20%20%20%20%20%20%20%20%20%20%20%20var%20html_701738dc15e14f5caf7a0ecc372dc547%20%3D%20%24%28%60%3Cdiv%20id%3D%22html_701738dc15e14f5caf7a0ecc372dc547%22%20style%3D%22width%3A%20100.0%25%3B%20height%3A%20100.0%25%3B%22%3ESALIDA%20CALZADA%3C/div%3E%60%29%5B0%5D%3B%0A%20%20%20%20%20%20%20%20%20%20%20%20popup_c2549242d7004fe884ab14c88536f50e.setContent%28html_701738dc15e14f5caf7a0ecc372dc547%29%3B%0A%20%20%20%20%20%20%20%20%0A%0A%20%20%20%20%20%20%20%20marker_68c4f55c43b145709d085502bb467c39.bindPopup%28popup_c2549242d7004fe884ab14c88536f50e%29%0A%20%20%20%20%20%20%20%20%3B%0A%0A%20%20%20%20%20%20%20%20%0A%20%20%20%20%0A%20%20%20%20%0A%20%20%20%20%20%20%20%20%20%20%20%20var%20marker_b739ea9f209348eeaea91a9b0bd3a7e2%20%3D%20L.marker%28%0A%20%20%20%20%20%20%20%20%20%20%20%20%20%20%20%20%5B41.6454384961757%2C%20-0.8762000299022707%5D%2C%0A%20%20%20%20%20%20%20%20%20%20%20%20%20%20%20%20%7B%7D%0A%20%20%20%20%20%20%20%20%20%20%20%20%29.addTo%28map_96612fdd4b174c22b677585d57f26fed%29%3B%0A%20%20%20%20%20%20%20%20%0A%20%20%20%20%0A%20%20%20%20%20%20%20%20var%20popup_5303ddff3ce64621b5582d057efad58b%20%3D%20L.popup%28%7B%22maxWidth%22%3A%20%22100%25%22%7D%29%3B%0A%0A%20%20%20%20%20%20%20%20%0A%20%20%20%20%20%20%20%20%20%20%20%20var%20html_9ef7cdf4301c432c93bb195a387165bb%20%3D%20%24%28%60%3Cdiv%20id%3D%22html_9ef7cdf4301c432c93bb195a387165bb%22%20style%3D%22width%3A%20100.0%25%3B%20height%3A%20100.0%25%3B%22%3ECOLISI%C3%93N%20ALCANCE%3C/div%3E%60%29%5B0%5D%3B%0A%20%20%20%20%20%20%20%20%20%20%20%20popup_5303ddff3ce64621b5582d057efad58b.setContent%28html_9ef7cdf4301c432c93bb195a387165bb%29%3B%0A%20%20%20%20%20%20%20%20%0A%0A%20%20%20%20%20%20%20%20marker_b739ea9f209348eeaea91a9b0bd3a7e2.bindPopup%28popup_5303ddff3ce64621b5582d057efad58b%29%0A%20%20%20%20%20%20%20%20%3B%0A%0A%20%20%20%20%20%20%20%20%0A%20%20%20%20%0A%20%20%20%20%0A%20%20%20%20%20%20%20%20%20%20%20%20var%20marker_39e924f4b3914082a9bc0e9829df7050%20%3D%20L.marker%28%0A%20%20%20%20%20%20%20%20%20%20%20%20%20%20%20%20%5B41.65543768899759%2C%20-0.9089013552408617%5D%2C%0A%20%20%20%20%20%20%20%20%20%20%20%20%20%20%20%20%7B%7D%0A%20%20%20%20%20%20%20%20%20%20%20%20%29.addTo%28map_96612fdd4b174c22b677585d57f26fed%29%3B%0A%20%20%20%20%20%20%20%20%0A%20%20%20%20%0A%20%20%20%20%20%20%20%20var%20popup_a8e27c0f637c46d6bb0a8a539cfb744a%20%3D%20L.popup%28%7B%22maxWidth%22%3A%20%22100%25%22%7D%29%3B%0A%0A%20%20%20%20%20%20%20%20%0A%20%20%20%20%20%20%20%20%20%20%20%20var%20html_decc56b3b71e41f99c17a04d05ee6a38%20%3D%20%24%28%60%3Cdiv%20id%3D%22html_decc56b3b71e41f99c17a04d05ee6a38%22%20style%3D%22width%3A%20100.0%25%3B%20height%3A%20100.0%25%3B%22%3EATROPELLO%3C/div%3E%60%29%5B0%5D%3B%0A%20%20%20%20%20%20%20%20%20%20%20%20popup_a8e27c0f637c46d6bb0a8a539cfb744a.setContent%28html_decc56b3b71e41f99c17a04d05ee6a38%29%3B%0A%20%20%20%20%20%20%20%20%0A%0A%20%20%20%20%20%20%20%20marker_39e924f4b3914082a9bc0e9829df7050.bindPopup%28popup_a8e27c0f637c46d6bb0a8a539cfb744a%29%0A%20%20%20%20%20%20%20%20%3B%0A%0A%20%20%20%20%20%20%20%20%0A%20%20%20%20%0A%20%20%20%20%0A%20%20%20%20%20%20%20%20%20%20%20%20var%20marker_e653b82fb69e461586fa365ea85e5972%20%3D%20L.marker%28%0A%20%20%20%20%20%20%20%20%20%20%20%20%20%20%20%20%5B41.65180346604993%2C%20-0.9004729973337304%5D%2C%0A%20%20%20%20%20%20%20%20%20%20%20%20%20%20%20%20%7B%7D%0A%20%20%20%20%20%20%20%20%20%20%20%20%29.addTo%28map_96612fdd4b174c22b677585d57f26fed%29%3B%0A%20%20%20%20%20%20%20%20%0A%20%20%20%20%0A%20%20%20%20%20%20%20%20var%20popup_eef8936586af4d65b8f89a48d2891fba%20%3D%20L.popup%28%7B%22maxWidth%22%3A%20%22100%25%22%7D%29%3B%0A%0A%20%20%20%20%20%20%20%20%0A%20%20%20%20%20%20%20%20%20%20%20%20var%20html_9039d2714aa74c16ace1af5a7489b6ae%20%3D%20%24%28%60%3Cdiv%20id%3D%22html_9039d2714aa74c16ace1af5a7489b6ae%22%20style%3D%22width%3A%20100.0%25%3B%20height%3A%20100.0%25%3B%22%3ECOLISI%C3%93N%20ALCANCE%3C/div%3E%60%29%5B0%5D%3B%0A%20%20%20%20%20%20%20%20%20%20%20%20popup_eef8936586af4d65b8f89a48d2891fba.setContent%28html_9039d2714aa74c16ace1af5a7489b6ae%29%3B%0A%20%20%20%20%20%20%20%20%0A%0A%20%20%20%20%20%20%20%20marker_e653b82fb69e461586fa365ea85e5972.bindPopup%28popup_eef8936586af4d65b8f89a48d2891fba%29%0A%20%20%20%20%20%20%20%20%3B%0A%0A%20%20%20%20%20%20%20%20%0A%20%20%20%20%0A%20%20%20%20%0A%20%20%20%20%20%20%20%20%20%20%20%20var%20marker_0793723e3ea64f9eb37aaef07aee84b4%20%3D%20L.marker%28%0A%20%20%20%20%20%20%20%20%20%20%20%20%20%20%20%20%5B41.65233828238132%2C%20-0.8917562993466011%5D%2C%0A%20%20%20%20%20%20%20%20%20%20%20%20%20%20%20%20%7B%7D%0A%20%20%20%20%20%20%20%20%20%20%20%20%29.addTo%28map_96612fdd4b174c22b677585d57f26fed%29%3B%0A%20%20%20%20%20%20%20%20%0A%20%20%20%20%0A%20%20%20%20%20%20%20%20var%20popup_f8d8c04b0ceb4baa807cbd67acaaad5e%20%3D%20L.popup%28%7B%22maxWidth%22%3A%20%22100%25%22%7D%29%3B%0A%0A%20%20%20%20%20%20%20%20%0A%20%20%20%20%20%20%20%20%20%20%20%20var%20html_cf3ea5f7ad0048a9914924a1426d1088%20%3D%20%24%28%60%3Cdiv%20id%3D%22html_cf3ea5f7ad0048a9914924a1426d1088%22%20style%3D%22width%3A%20100.0%25%3B%20height%3A%20100.0%25%3B%22%3ECOLISI%C3%93N%20ALCANCE%3C/div%3E%60%29%5B0%5D%3B%0A%20%20%20%20%20%20%20%20%20%20%20%20popup_f8d8c04b0ceb4baa807cbd67acaaad5e.setContent%28html_cf3ea5f7ad0048a9914924a1426d1088%29%3B%0A%20%20%20%20%20%20%20%20%0A%0A%20%20%20%20%20%20%20%20marker_0793723e3ea64f9eb37aaef07aee84b4.bindPopup%28popup_f8d8c04b0ceb4baa807cbd67acaaad5e%29%0A%20%20%20%20%20%20%20%20%3B%0A%0A%20%20%20%20%20%20%20%20%0A%20%20%20%20%0A%20%20%20%20%0A%20%20%20%20%20%20%20%20%20%20%20%20var%20marker_2894d612424849b6bd97fca02eb27250%20%3D%20L.marker%28%0A%20%20%20%20%20%20%20%20%20%20%20%20%20%20%20%20%5B41.65040494617356%2C%20-0.888856043735591%5D%2C%0A%20%20%20%20%20%20%20%20%20%20%20%20%20%20%20%20%7B%7D%0A%20%20%20%20%20%20%20%20%20%20%20%20%29.addTo%28map_96612fdd4b174c22b677585d57f26fed%29%3B%0A%20%20%20%20%20%20%20%20%0A%20%20%20%20%0A%20%20%20%20%20%20%20%20var%20popup_e4beb237331f4fd6b42eb01dc8102d3d%20%3D%20L.popup%28%7B%22maxWidth%22%3A%20%22100%25%22%7D%29%3B%0A%0A%20%20%20%20%20%20%20%20%0A%20%20%20%20%20%20%20%20%20%20%20%20var%20html_9a9558ece6b44447b26cbc7fdbdfce36%20%3D%20%24%28%60%3Cdiv%20id%3D%22html_9a9558ece6b44447b26cbc7fdbdfce36%22%20style%3D%22width%3A%20100.0%25%3B%20height%3A%20100.0%25%3B%22%3ECOLISI%C3%93N%20ALCANCE%3C/div%3E%60%29%5B0%5D%3B%0A%20%20%20%20%20%20%20%20%20%20%20%20popup_e4beb237331f4fd6b42eb01dc8102d3d.setContent%28html_9a9558ece6b44447b26cbc7fdbdfce36%29%3B%0A%20%20%20%20%20%20%20%20%0A%0A%20%20%20%20%20%20%20%20marker_2894d612424849b6bd97fca02eb27250.bindPopup%28popup_e4beb237331f4fd6b42eb01dc8102d3d%29%0A%20%20%20%20%20%20%20%20%3B%0A%0A%20%20%20%20%20%20%20%20%0A%20%20%20%20%0A%20%20%20%20%0A%20%20%20%20%20%20%20%20%20%20%20%20var%20marker_2dc7937fd6b24f0685ef698cbc9f5124%20%3D%20L.marker%28%0A%20%20%20%20%20%20%20%20%20%20%20%20%20%20%20%20%5B41.645335650478316%2C%20-0.8629911318784169%5D%2C%0A%20%20%20%20%20%20%20%20%20%20%20%20%20%20%20%20%7B%7D%0A%20%20%20%20%20%20%20%20%20%20%20%20%29.addTo%28map_96612fdd4b174c22b677585d57f26fed%29%3B%0A%20%20%20%20%20%20%20%20%0A%20%20%20%20%0A%20%20%20%20%20%20%20%20var%20popup_7f625ca52f054b59a6f120dd2da1516a%20%3D%20L.popup%28%7B%22maxWidth%22%3A%20%22100%25%22%7D%29%3B%0A%0A%20%20%20%20%20%20%20%20%0A%20%20%20%20%20%20%20%20%20%20%20%20var%20html_aa8ffc5377fe4e47bf440cd161d694b6%20%3D%20%24%28%60%3Cdiv%20id%3D%22html_aa8ffc5377fe4e47bf440cd161d694b6%22%20style%3D%22width%3A%20100.0%25%3B%20height%3A%20100.0%25%3B%22%3ECOLISI%C3%93N%20ALCANCE%3C/div%3E%60%29%5B0%5D%3B%0A%20%20%20%20%20%20%20%20%20%20%20%20popup_7f625ca52f054b59a6f120dd2da1516a.setContent%28html_aa8ffc5377fe4e47bf440cd161d694b6%29%3B%0A%20%20%20%20%20%20%20%20%0A%0A%20%20%20%20%20%20%20%20marker_2dc7937fd6b24f0685ef698cbc9f5124.bindPopup%28popup_7f625ca52f054b59a6f120dd2da1516a%29%0A%20%20%20%20%20%20%20%20%3B%0A%0A%20%20%20%20%20%20%20%20%0A%20%20%20%20%0A%20%20%20%20%0A%20%20%20%20%20%20%20%20%20%20%20%20var%20marker_680fd452864d46b586dcef8b789df8a9%20%3D%20L.marker%28%0A%20%20%20%20%20%20%20%20%20%20%20%20%20%20%20%20%5B41.609992514227066%2C%20-0.8870207060655807%5D%2C%0A%20%20%20%20%20%20%20%20%20%20%20%20%20%20%20%20%7B%7D%0A%20%20%20%20%20%20%20%20%20%20%20%20%29.addTo%28map_96612fdd4b174c22b677585d57f26fed%29%3B%0A%20%20%20%20%20%20%20%20%0A%20%20%20%20%0A%20%20%20%20%20%20%20%20var%20popup_f6020c7a42554abeba9a79df07066356%20%3D%20L.popup%28%7B%22maxWidth%22%3A%20%22100%25%22%7D%29%3B%0A%0A%20%20%20%20%20%20%20%20%0A%20%20%20%20%20%20%20%20%20%20%20%20var%20html_a2ba9cf6b6e14e42a543dca95b4b7c34%20%3D%20%24%28%60%3Cdiv%20id%3D%22html_a2ba9cf6b6e14e42a543dca95b4b7c34%22%20style%3D%22width%3A%20100.0%25%3B%20height%3A%20100.0%25%3B%22%3ECOLISI%C3%93N%20ALCANCE%3C/div%3E%60%29%5B0%5D%3B%0A%20%20%20%20%20%20%20%20%20%20%20%20popup_f6020c7a42554abeba9a79df07066356.setContent%28html_a2ba9cf6b6e14e42a543dca95b4b7c34%29%3B%0A%20%20%20%20%20%20%20%20%0A%0A%20%20%20%20%20%20%20%20marker_680fd452864d46b586dcef8b789df8a9.bindPopup%28popup_f6020c7a42554abeba9a79df07066356%29%0A%20%20%20%20%20%20%20%20%3B%0A%0A%20%20%20%20%20%20%20%20%0A%20%20%20%20%0A%3C/script%3E onload=\"this.contentDocument.open();this.contentDocument.write(    decodeURIComponent(this.getAttribute('data-html')));this.contentDocument.close();\" allowfullscreen webkitallowfullscreen mozallowfullscreen></iframe></div></div>"
      ],
      "text/plain": [
       "<folium.folium.Map at 0x22e1e79bca0>"
      ]
     },
     "execution_count": 68,
     "metadata": {},
     "output_type": "execute_result"
    }
   ],
   "source": [
    "url = 'https://www.zaragoza.es/sede/servicio/transporte/accidentalidad-trafico/accidente.csv?rows=20'\n",
    "coord = [41.64,-0.88]\n",
    "mapa = folium.Map(location=coord)\n",
    "df = pd.read_csv(url,delimiter=';')\n",
    "longitudes = []\n",
    "for i in df['geometry']:\n",
    "    longlat = i.split(',')\n",
    "    longitudes += [float(longlat[0])]\n",
    "latitudes = []\n",
    "for i in df['geometry']:\n",
    "    longlat = i.split(',')\n",
    "    latitudes += [float(longlat[1])]\n",
    "df_coord = pd.DataFrame({'long':longitudes, 'lat':latitudes})\n",
    "df_tipo = pd.concat([df['type'],df_coord],axis=1)\n",
    "for index, fila in df_tipo.iterrows():\n",
    "    marcador = folium.Marker([fila['lat'],fila['long']],popup=fila['type'])\n",
    "    mapa.add_child(marcador)\n",
    "mapa"
   ]
  },
  {
   "cell_type": "markdown",
   "id": "b52d80e4",
   "metadata": {},
   "source": [
    "Por último, intentaremos que nos muestre un mapa con otras coordenadas. En este caso, pondremos el marcador en las del Estadio Santiago Bernabéu. Utilizaremos el siguiente bucle para ello. Con la función Marker nos situará el marcador allí y con la función Icon podremos cambiar el color del marcador. "
   ]
  },
  {
   "cell_type": "code",
   "execution_count": 69,
   "id": "8fd708af",
   "metadata": {},
   "outputs": [
    {
     "data": {
      "text/html": [
       "<div style=\"width:100%;\"><div style=\"position:relative;width:100%;height:0;padding-bottom:60%;\"><span style=\"color:#565656\">Make this Notebook Trusted to load map: File -> Trust Notebook</span><iframe src=\"about:blank\" style=\"position:absolute;width:100%;height:100%;left:0;top:0;border:none !important;\" data-html=%3C%21DOCTYPE%20html%3E%0A%3Chead%3E%20%20%20%20%0A%20%20%20%20%3Cmeta%20http-equiv%3D%22content-type%22%20content%3D%22text/html%3B%20charset%3DUTF-8%22%20/%3E%0A%20%20%20%20%0A%20%20%20%20%20%20%20%20%3Cscript%3E%0A%20%20%20%20%20%20%20%20%20%20%20%20L_NO_TOUCH%20%3D%20false%3B%0A%20%20%20%20%20%20%20%20%20%20%20%20L_DISABLE_3D%20%3D%20false%3B%0A%20%20%20%20%20%20%20%20%3C/script%3E%0A%20%20%20%20%0A%20%20%20%20%3Cstyle%3Ehtml%2C%20body%20%7Bwidth%3A%20100%25%3Bheight%3A%20100%25%3Bmargin%3A%200%3Bpadding%3A%200%3B%7D%3C/style%3E%0A%20%20%20%20%3Cstyle%3E%23map%20%7Bposition%3Aabsolute%3Btop%3A0%3Bbottom%3A0%3Bright%3A0%3Bleft%3A0%3B%7D%3C/style%3E%0A%20%20%20%20%3Cscript%20src%3D%22https%3A//cdn.jsdelivr.net/npm/leaflet%401.6.0/dist/leaflet.js%22%3E%3C/script%3E%0A%20%20%20%20%3Cscript%20src%3D%22https%3A//code.jquery.com/jquery-1.12.4.min.js%22%3E%3C/script%3E%0A%20%20%20%20%3Cscript%20src%3D%22https%3A//maxcdn.bootstrapcdn.com/bootstrap/3.2.0/js/bootstrap.min.js%22%3E%3C/script%3E%0A%20%20%20%20%3Cscript%20src%3D%22https%3A//cdnjs.cloudflare.com/ajax/libs/Leaflet.awesome-markers/2.0.2/leaflet.awesome-markers.js%22%3E%3C/script%3E%0A%20%20%20%20%3Clink%20rel%3D%22stylesheet%22%20href%3D%22https%3A//cdn.jsdelivr.net/npm/leaflet%401.6.0/dist/leaflet.css%22/%3E%0A%20%20%20%20%3Clink%20rel%3D%22stylesheet%22%20href%3D%22https%3A//maxcdn.bootstrapcdn.com/bootstrap/3.2.0/css/bootstrap.min.css%22/%3E%0A%20%20%20%20%3Clink%20rel%3D%22stylesheet%22%20href%3D%22https%3A//maxcdn.bootstrapcdn.com/bootstrap/3.2.0/css/bootstrap-theme.min.css%22/%3E%0A%20%20%20%20%3Clink%20rel%3D%22stylesheet%22%20href%3D%22https%3A//maxcdn.bootstrapcdn.com/font-awesome/4.6.3/css/font-awesome.min.css%22/%3E%0A%20%20%20%20%3Clink%20rel%3D%22stylesheet%22%20href%3D%22https%3A//cdnjs.cloudflare.com/ajax/libs/Leaflet.awesome-markers/2.0.2/leaflet.awesome-markers.css%22/%3E%0A%20%20%20%20%3Clink%20rel%3D%22stylesheet%22%20href%3D%22https%3A//cdn.jsdelivr.net/gh/python-visualization/folium/folium/templates/leaflet.awesome.rotate.min.css%22/%3E%0A%20%20%20%20%0A%20%20%20%20%20%20%20%20%20%20%20%20%3Cmeta%20name%3D%22viewport%22%20content%3D%22width%3Ddevice-width%2C%0A%20%20%20%20%20%20%20%20%20%20%20%20%20%20%20%20initial-scale%3D1.0%2C%20maximum-scale%3D1.0%2C%20user-scalable%3Dno%22%20/%3E%0A%20%20%20%20%20%20%20%20%20%20%20%20%3Cstyle%3E%0A%20%20%20%20%20%20%20%20%20%20%20%20%20%20%20%20%23map_0f11a0fd2816415ebd68e6798a23aad9%20%7B%0A%20%20%20%20%20%20%20%20%20%20%20%20%20%20%20%20%20%20%20%20position%3A%20relative%3B%0A%20%20%20%20%20%20%20%20%20%20%20%20%20%20%20%20%20%20%20%20width%3A%20100.0%25%3B%0A%20%20%20%20%20%20%20%20%20%20%20%20%20%20%20%20%20%20%20%20height%3A%20100.0%25%3B%0A%20%20%20%20%20%20%20%20%20%20%20%20%20%20%20%20%20%20%20%20left%3A%200.0%25%3B%0A%20%20%20%20%20%20%20%20%20%20%20%20%20%20%20%20%20%20%20%20top%3A%200.0%25%3B%0A%20%20%20%20%20%20%20%20%20%20%20%20%20%20%20%20%7D%0A%20%20%20%20%20%20%20%20%20%20%20%20%3C/style%3E%0A%20%20%20%20%20%20%20%20%0A%3C/head%3E%0A%3Cbody%3E%20%20%20%20%0A%20%20%20%20%0A%20%20%20%20%20%20%20%20%20%20%20%20%3Cdiv%20class%3D%22folium-map%22%20id%3D%22map_0f11a0fd2816415ebd68e6798a23aad9%22%20%3E%3C/div%3E%0A%20%20%20%20%20%20%20%20%0A%3C/body%3E%0A%3Cscript%3E%20%20%20%20%0A%20%20%20%20%0A%20%20%20%20%20%20%20%20%20%20%20%20var%20map_0f11a0fd2816415ebd68e6798a23aad9%20%3D%20L.map%28%0A%20%20%20%20%20%20%20%20%20%20%20%20%20%20%20%20%22map_0f11a0fd2816415ebd68e6798a23aad9%22%2C%0A%20%20%20%20%20%20%20%20%20%20%20%20%20%20%20%20%7B%0A%20%20%20%20%20%20%20%20%20%20%20%20%20%20%20%20%20%20%20%20center%3A%20%5B40.4494478%2C%20-3.6893706%5D%2C%0A%20%20%20%20%20%20%20%20%20%20%20%20%20%20%20%20%20%20%20%20crs%3A%20L.CRS.EPSG3857%2C%0A%20%20%20%20%20%20%20%20%20%20%20%20%20%20%20%20%20%20%20%20zoom%3A%2010%2C%0A%20%20%20%20%20%20%20%20%20%20%20%20%20%20%20%20%20%20%20%20zoomControl%3A%20true%2C%0A%20%20%20%20%20%20%20%20%20%20%20%20%20%20%20%20%20%20%20%20preferCanvas%3A%20false%2C%0A%20%20%20%20%20%20%20%20%20%20%20%20%20%20%20%20%7D%0A%20%20%20%20%20%20%20%20%20%20%20%20%29%3B%0A%0A%20%20%20%20%20%20%20%20%20%20%20%20%0A%0A%20%20%20%20%20%20%20%20%0A%20%20%20%20%0A%20%20%20%20%20%20%20%20%20%20%20%20var%20tile_layer_0928cc9be2fa4a3b95172a15607006e3%20%3D%20L.tileLayer%28%0A%20%20%20%20%20%20%20%20%20%20%20%20%20%20%20%20%22https%3A//stamen-tiles-%7Bs%7D.a.ssl.fastly.net/terrain/%7Bz%7D/%7Bx%7D/%7By%7D.jpg%22%2C%0A%20%20%20%20%20%20%20%20%20%20%20%20%20%20%20%20%7B%22attribution%22%3A%20%22Map%20tiles%20by%20%5Cu003ca%20href%3D%5C%22http%3A//stamen.com%5C%22%5Cu003eStamen%20Design%5Cu003c/a%5Cu003e%2C%20under%20%5Cu003ca%20href%3D%5C%22http%3A//creativecommons.org/licenses/by/3.0%5C%22%5Cu003eCC%20BY%203.0%5Cu003c/a%5Cu003e.%20Data%20by%20%5Cu0026copy%3B%20%5Cu003ca%20href%3D%5C%22http%3A//openstreetmap.org%5C%22%5Cu003eOpenStreetMap%5Cu003c/a%5Cu003e%2C%20under%20%5Cu003ca%20href%3D%5C%22http%3A//creativecommons.org/licenses/by-sa/3.0%5C%22%5Cu003eCC%20BY%20SA%5Cu003c/a%5Cu003e.%22%2C%20%22detectRetina%22%3A%20false%2C%20%22maxNativeZoom%22%3A%2018%2C%20%22maxZoom%22%3A%2018%2C%20%22minZoom%22%3A%200%2C%20%22noWrap%22%3A%20false%2C%20%22opacity%22%3A%201%2C%20%22subdomains%22%3A%20%22abc%22%2C%20%22tms%22%3A%20false%7D%0A%20%20%20%20%20%20%20%20%20%20%20%20%29.addTo%28map_0f11a0fd2816415ebd68e6798a23aad9%29%3B%0A%20%20%20%20%20%20%20%20%0A%20%20%20%20%0A%20%20%20%20%20%20%20%20%20%20%20%20var%20marker_59a19472c0034e11830578d24cbc8d72%20%3D%20L.marker%28%0A%20%20%20%20%20%20%20%20%20%20%20%20%20%20%20%20%5B40.4494478%2C%20-3.6893706%5D%2C%0A%20%20%20%20%20%20%20%20%20%20%20%20%20%20%20%20%7B%7D%0A%20%20%20%20%20%20%20%20%20%20%20%20%29.addTo%28map_0f11a0fd2816415ebd68e6798a23aad9%29%3B%0A%20%20%20%20%20%20%20%20%0A%20%20%20%20%0A%20%20%20%20%20%20%20%20%20%20%20%20var%20icon_b10d976f6eb1485f8abc10c7efefe870%20%3D%20L.AwesomeMarkers.icon%28%0A%20%20%20%20%20%20%20%20%20%20%20%20%20%20%20%20%7B%22extraClasses%22%3A%20%22fa-rotate-0%22%2C%20%22icon%22%3A%20%22info-sign%22%2C%20%22iconColor%22%3A%20%22white%22%2C%20%22markerColor%22%3A%20%22green%22%2C%20%22prefix%22%3A%20%22glyphicon%22%7D%0A%20%20%20%20%20%20%20%20%20%20%20%20%29%3B%0A%20%20%20%20%20%20%20%20%20%20%20%20marker_59a19472c0034e11830578d24cbc8d72.setIcon%28icon_b10d976f6eb1485f8abc10c7efefe870%29%3B%0A%20%20%20%20%20%20%20%20%0A%3C/script%3E onload=\"this.contentDocument.open();this.contentDocument.write(    decodeURIComponent(this.getAttribute('data-html')));this.contentDocument.close();\" allowfullscreen webkitallowfullscreen mozallowfullscreen></iframe></div></div>"
      ],
      "text/plain": [
       "<folium.folium.Map at 0x22e1e78feb0>"
      ]
     },
     "execution_count": 69,
     "metadata": {},
     "output_type": "execute_result"
    }
   ],
   "source": [
    "coord = [40.4494478,-3.6893706]\n",
    "mapa = folium.Map (location=coord, tiles='Stamen Terrain')\n",
    "marcador = folium.Marker (coord, icon=folium.Icon(color=\"green\"))\n",
    "mapa = mapa.add_child (marcador)\n",
    "mapa"
   ]
  }
 ],
 "metadata": {
  "kernelspec": {
   "display_name": "Python 3",
   "language": "python",
   "name": "python3"
  },
  "language_info": {
   "codemirror_mode": {
    "name": "ipython",
    "version": 3
   },
   "file_extension": ".py",
   "mimetype": "text/x-python",
   "name": "python",
   "nbconvert_exporter": "python",
   "pygments_lexer": "ipython3",
   "version": "3.8.8"
  }
 },
 "nbformat": 4,
 "nbformat_minor": 5
}
